{
 "cells": [
  {
   "cell_type": "markdown",
   "metadata": {},
   "source": [
    "# Computation, Problem Set #1b\n",
    "## Object Oriented Programming"
   ]
  },
  {
   "cell_type": "code",
   "execution_count": 1,
   "metadata": {},
   "outputs": [],
   "source": [
    "import math\n",
    "import numpy as np\n",
    "import sympy as sy\n",
    "from matplotlib import pyplot as plt"
   ]
  },
  {
   "cell_type": "markdown",
   "metadata": {},
   "source": [
    "### Problem 1"
   ]
  },
  {
   "cell_type": "code",
   "execution_count": 2,
   "metadata": {
    "scrolled": false
   },
   "outputs": [],
   "source": [
    "class Backpack:\n",
    "    \"\"\"A Backpack object class. Has a name and a list of contents.\n",
    "    \n",
    "    Attributes:\n",
    "        name (str) : the name of the backpack's owner.\n",
    "        color (str) : the color of the backpack.\n",
    "        max_size (int) : the maximum number of items that can be put in the backpack\"\n",
    "        contents (list) : the contents of the backpack\"\"\"\n",
    "    \n",
    "    def __init__(self,name,color,max_size=5):\n",
    "        self.name = name\n",
    "        self.color = color\n",
    "        self.max_size = max_size\n",
    "        self.contents = []\n",
    "        \n",
    "    def put(self,item):\n",
    "        if len(self.contents) >= self.max_size:\n",
    "            print(\"No Room!\")\n",
    "        else:\n",
    "            self.contents.append(item)\n",
    "        \n",
    "    def take(self,item):\n",
    "        self.contents.remove(item)\n",
    "        \n",
    "    def dump(self):\n",
    "        self.contents = []"
   ]
  },
  {
   "cell_type": "code",
   "execution_count": 3,
   "metadata": {},
   "outputs": [
    {
     "name": "stdout",
     "output_type": "stream",
     "text": [
      "Contents: ['pencil', 'pen', 'paper', 'computer']\n",
      "Contents: ['pencil', 'pen', 'paper', 'computer', 'eraser']\n",
      "No Room!\n",
      "Contents: []\n"
     ]
    }
   ],
   "source": [
    "def test_backpack():\n",
    "    testpack = Backpack(\"Barry\",\"black\")\n",
    "    if testpack.name != \"Barry\":\n",
    "        print(\"Backpack.name assigned incorrectly\")\n",
    "    for item in [\"pencil\",\"pen\",\"paper\",\"computer\"]:\n",
    "        testpack.put(item)\n",
    "    print(\"Contents:\", testpack.contents)\n",
    "    testpack.put(\"eraser\")\n",
    "    print(\"Contents:\", testpack.contents)\n",
    "    testpack.put(\"book\")\n",
    "    testpack.dump()\n",
    "    print(\"Contents:\", testpack.contents)\n",
    "    \n",
    "test_backpack()"
   ]
  },
  {
   "cell_type": "markdown",
   "metadata": {},
   "source": [
    "### Problem 2"
   ]
  },
  {
   "cell_type": "code",
   "execution_count": 4,
   "metadata": {},
   "outputs": [],
   "source": [
    "class Jetpack(Backpack):\n",
    "    def __init__(self,name,color,fuel=10,max_size=2):\n",
    "        self.name = name\n",
    "        self.color = color\n",
    "        self.max_size = max_size\n",
    "        self.fuel = fuel\n",
    "        self.contents = []\n",
    "        \n",
    "    def fly(self,burn):\n",
    "        if burn > self.fuel:\n",
    "            print(\"Not enough fuel\")\n",
    "        else:\n",
    "            self.fuel = self.fuel - burn\n",
    "            print(\"remained fuel is\",self.fuel)\n",
    "            \n",
    "    def dump(self):\n",
    "        self.contents = []\n",
    "        self.fuel = 0"
   ]
  },
  {
   "cell_type": "code",
   "execution_count": 5,
   "metadata": {},
   "outputs": [
    {
     "name": "stdout",
     "output_type": "stream",
     "text": [
      "Contents: ['item1', 'item2']\n",
      "No Room!\n",
      "remained fuel is 5\n",
      "Not enough fuel\n",
      "Contents: [] fuel: 0\n"
     ]
    }
   ],
   "source": [
    "def test_jetpack():\n",
    "    testpack = Jetpack(\"Barry\",\"black\")\n",
    "    if testpack.name != \"Barry\":\n",
    "        print(\"Backpack.name assigned incorrectly\")\n",
    "    for item in [\"item1\",\"item2\"]:\n",
    "        testpack.put(item)\n",
    "    print(\"Contents:\", testpack.contents)\n",
    "    testpack.put(\"item3\")\n",
    "    testpack.fly(5)\n",
    "    testpack.fuel\n",
    "    testpack.fly(6)\n",
    "    testpack.dump()\n",
    "    print(\"Contents:\", testpack.contents, \"fuel:\", testpack.fuel)\n",
    "    \n",
    "test_jetpack()"
   ]
  },
  {
   "cell_type": "markdown",
   "metadata": {},
   "source": [
    "### Problem 3"
   ]
  },
  {
   "cell_type": "code",
   "execution_count": 195,
   "metadata": {},
   "outputs": [],
   "source": [
    "class Backpack:\n",
    "    def __init__(self,name,color,max_size=5):\n",
    "        self.name = name\n",
    "        self.color = color\n",
    "        self.max_size = max_size\n",
    "        self.contents = []\n",
    "        \n",
    "    def put(self,item):\n",
    "        if len(self.contents) >= self.max_size:\n",
    "            print(\"No Room!\")\n",
    "        else:\n",
    "            self.contents.append(item)\n",
    "        \n",
    "    def take(self,item):\n",
    "        self.contents.remove(item)\n",
    "        \n",
    "    def dump(self):\n",
    "        self.contents = []\n",
    "        \n",
    "    def __eq__(self, other): \n",
    "        if self.name == other.name and self.color == other.color and len(self.contents) == len(other.contents):\n",
    "            return True\n",
    "        else:\n",
    "            return False\n",
    "        \n",
    "    def __str__(self):\n",
    "        return \"Owner:    \" + '\\t' + self.name + '\\n' + \\\n",
    "              \"Color:    \" + '\\t' + self.color + '\\n' + \\\n",
    "              \"Size:     \" + '\\t' + str(len(self.contents)) + '\\n' + \\\n",
    "              \"Max Size: \" + '\\t' + str(self.max_size) + '\\n' + \\\n",
    "              \"Contents: \" + '\\t' + str(self.contents)"
   ]
  },
  {
   "cell_type": "code",
   "execution_count": 196,
   "metadata": {},
   "outputs": [],
   "source": [
    "# backpack 1\n",
    "backpack1 = Backpack(\"mine\",\"black\")\n",
    "backpack1.put(\"computer\")\n",
    "\n",
    "# backpack 2\n",
    "backpack2 = Backpack(\"yours\",\"red\")\n",
    "backpack2.put(\"computer\")\n",
    "\n",
    "# backpack 3\n",
    "backpack3 = Backpack(\"mine\",\"black\")\n",
    "backpack3.put(\"computer\")"
   ]
  },
  {
   "cell_type": "code",
   "execution_count": 197,
   "metadata": {},
   "outputs": [
    {
     "data": {
      "text/plain": [
       "False"
      ]
     },
     "execution_count": 197,
     "metadata": {},
     "output_type": "execute_result"
    }
   ],
   "source": [
    "# compare backpack 1 and 2\n",
    "backpack1 == backpack2"
   ]
  },
  {
   "cell_type": "code",
   "execution_count": 198,
   "metadata": {},
   "outputs": [
    {
     "data": {
      "text/plain": [
       "True"
      ]
     },
     "execution_count": 198,
     "metadata": {},
     "output_type": "execute_result"
    }
   ],
   "source": [
    "# compare backpack 1 and 3\n",
    "backpack1 == backpack3"
   ]
  },
  {
   "cell_type": "code",
   "execution_count": 200,
   "metadata": {},
   "outputs": [
    {
     "name": "stdout",
     "output_type": "stream",
     "text": [
      "Owner:    \tself.name\n",
      "Color:    \tblack\n",
      "Size:     \t1\n",
      "Max Size: \t5\n",
      "Contents: \t['computer']\n"
     ]
    }
   ],
   "source": [
    "print(str(backpack1))"
   ]
  },
  {
   "cell_type": "markdown",
   "metadata": {},
   "source": [
    "### Problem 4"
   ]
  },
  {
   "cell_type": "code",
   "execution_count": 201,
   "metadata": {},
   "outputs": [],
   "source": [
    "class ComplexNumber:\n",
    "    \n",
    "    def __init__(self, real, imag):\n",
    "        self.real = real\n",
    "        self.imag = imag\n",
    "        \n",
    "    def conjugate(self):\n",
    "        return ComplexNumber(self.real, -self.imag)\n",
    "        \n",
    "    def __str__(self):\n",
    "        if self.imag < 0:\n",
    "            return str(self.real) + \"+\" + str(self.imag) + \"j\"\n",
    "        else:\n",
    "            return str(self.real) + \"-\" + str(self.imag) + \"j\"\n",
    "    \n",
    "    def __abs__(self):\n",
    "        return np.sqrt(self.real**2 + self.imag**2)\n",
    "\n",
    "    def __eq__(self, other):\n",
    "        if self.real == other.real and self.imag == other.image:\n",
    "            return True\n",
    "        else:\n",
    "            return False\n",
    "        \n",
    "    def __add__(self, other):\n",
    "        return ComplexNumber(self.real + other.real, self.imag + other.imag)\n",
    "    \n",
    "    def __sub__(self, other):\n",
    "        return ComplexNumber(self.real - other.real, self.imag - other.imag)\n",
    "    \n",
    "    def __mul__(self, other):\n",
    "        return ComplexNumber(self.real * other.real - self.imag * other.imag, \\\n",
    "                             self.real * other.imag + self.imag * other.real)\n",
    "    \n",
    "    def __truediv__(self, other):\n",
    "        a, b, c, d = self.real, self.imag, other.real, other.imag\n",
    "        return ComplexNumber((a*c+b*d)/(c**2+d**2), \\\n",
    "                            (b*c-a*d)/(c**2+d**2))"
   ]
  },
  {
   "cell_type": "code",
   "execution_count": 202,
   "metadata": {},
   "outputs": [],
   "source": [
    "def test_ComplexNumber(a, b):\n",
    "    py_cnum, my_cnum = np.complex(a, b), ComplexNumber(a, b)\n",
    "    \n",
    "    # Validate the constructor.\n",
    "    if my_cnum.real != a or my_cnum.imag != b:\n",
    "        print(\"__init__() set self.real and self.imag incorrectly\")\n",
    "    \n",
    "    # Validate conjugate() by checking the new number's imag attribute.\n",
    "    if py_cnum.conjugate().imag != my_cnum.conjugate().imag:\n",
    "        print(\"conjugate() failed for\", py_cnum)\n",
    "    \n",
    "    # Validate __str__().\n",
    "    if str(py_cnum) != str(my_cnum):\n",
    "        print(\"__str__() failed for\", py_cnum)"
   ]
  },
  {
   "cell_type": "markdown",
   "metadata": {},
   "source": [
    "### End"
   ]
  }
 ],
 "metadata": {
  "kernelspec": {
   "display_name": "Python 3",
   "language": "python",
   "name": "python3"
  },
  "language_info": {
   "codemirror_mode": {
    "name": "ipython",
    "version": 3
   },
   "file_extension": ".py",
   "mimetype": "text/x-python",
   "name": "python",
   "nbconvert_exporter": "python",
   "pygments_lexer": "ipython3",
   "version": "3.7.3"
  }
 },
 "nbformat": 4,
 "nbformat_minor": 2
}
