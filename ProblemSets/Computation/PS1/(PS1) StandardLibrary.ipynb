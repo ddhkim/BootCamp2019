{
 "cells": [
  {
   "cell_type": "markdown",
   "metadata": {},
   "source": [
    "# Computation, Problem Set #1b\n",
    "## Standard Library"
   ]
  },
  {
   "cell_type": "code",
   "execution_count": 1,
   "metadata": {},
   "outputs": [],
   "source": [
    "import numpy as np\n",
    "import sympy as sy"
   ]
  },
  {
   "cell_type": "markdown",
   "metadata": {},
   "source": [
    "### Problem 1"
   ]
  },
  {
   "cell_type": "code",
   "execution_count": 2,
   "metadata": {},
   "outputs": [],
   "source": [
    "def sumstat(x): return min(x),max(x),sum(x)/len(x)"
   ]
  },
  {
   "cell_type": "markdown",
   "metadata": {},
   "source": [
    "### Problem 2"
   ]
  },
  {
   "cell_type": "code",
   "execution_count": 3,
   "metadata": {},
   "outputs": [
    {
     "name": "stdout",
     "output_type": "stream",
     "text": [
      "int is an immutable type\n"
     ]
    }
   ],
   "source": [
    "int_1 = 1\n",
    "int_2 = int_1\n",
    "int_2 = int_2 + 1\n",
    "if int_1 == int_2:\n",
    "    print(\"int is a mutable type\")\n",
    "else:\n",
    "    print(\"int is an immutable type\")"
   ]
  },
  {
   "cell_type": "code",
   "execution_count": 4,
   "metadata": {},
   "outputs": [
    {
     "name": "stdout",
     "output_type": "stream",
     "text": [
      "str is an immutable type\n"
     ]
    }
   ],
   "source": [
    "str_1 = \"Hello, world!\"\n",
    "str_2 = str_1\n",
    "str_2 = str_2[::2]\n",
    "if str_1 == str_2:\n",
    "    print(\"str is a mutable type\")\n",
    "else:\n",
    "    print(\"str is an immutable type\")"
   ]
  },
  {
   "cell_type": "code",
   "execution_count": 5,
   "metadata": {},
   "outputs": [
    {
     "name": "stdout",
     "output_type": "stream",
     "text": [
      "list is a mutable type\n"
     ]
    }
   ],
   "source": [
    "list_1 = [\"Hello\", 93.8, \"world\", 10]\n",
    "list_2 = list_1\n",
    "list_2.pop()\n",
    "if list_1 == list_2:\n",
    "    print(\"list is a mutable type\")\n",
    "else:\n",
    "    print(\"list is an immutable type\")"
   ]
  },
  {
   "cell_type": "code",
   "execution_count": 6,
   "metadata": {},
   "outputs": [
    {
     "name": "stdout",
     "output_type": "stream",
     "text": [
      "tuple is an immutable type\n"
     ]
    }
   ],
   "source": [
    "tuple_1 = sumstat([1,2,3,4,5])\n",
    "tuple_2 = tuple_1\n",
    "tuple_2 = sumstat([1,2,3,4,5,6])\n",
    "if tuple_1 == tuple_2:\n",
    "    print(\"tuple is a mutable type\")\n",
    "else:\n",
    "    print(\"tuple is an immutable type\")"
   ]
  },
  {
   "cell_type": "code",
   "execution_count": 7,
   "metadata": {},
   "outputs": [
    {
     "name": "stdout",
     "output_type": "stream",
     "text": [
      "set is a mutable type\n"
     ]
    }
   ],
   "source": [
    "set_1 = {\"Doe, John\", \"Smith, Jane\", \"Brown, Bob\"}\n",
    "set_2 = set_1\n",
    "set_2.discard(\"Doe, John\")\n",
    "if set_1 == set_2:\n",
    "    print(\"set is a mutable type\")\n",
    "else:\n",
    "    print(\"set is an immutable type\")"
   ]
  },
  {
   "cell_type": "markdown",
   "metadata": {},
   "source": [
    "### Problem 3"
   ]
  },
  {
   "cell_type": "code",
   "execution_count": 8,
   "metadata": {},
   "outputs": [],
   "source": [
    "import calculator as cal\n",
    "from math import sqrt\n",
    "def hypotenuse(x,y):\n",
    "    return sqrt(cal.sum(cal.product(x,x), cal.product(y,y)))"
   ]
  },
  {
   "cell_type": "code",
   "execution_count": 9,
   "metadata": {},
   "outputs": [
    {
     "data": {
      "text/plain": [
       "5.0"
      ]
     },
     "execution_count": 9,
     "metadata": {},
     "output_type": "execute_result"
    }
   ],
   "source": [
    "hypotenuse(3,4)"
   ]
  },
  {
   "cell_type": "markdown",
   "metadata": {},
   "source": [
    "### Problem 4"
   ]
  },
  {
   "cell_type": "code",
   "execution_count": 10,
   "metadata": {},
   "outputs": [],
   "source": [
    "from itertools import combinations\n",
    "def power(A):\n",
    "    for i in range(len(A)+1):\n",
    "        print(list(combinations(A,i)))\n",
    "    return"
   ]
  },
  {
   "cell_type": "code",
   "execution_count": 11,
   "metadata": {},
   "outputs": [
    {
     "name": "stdout",
     "output_type": "stream",
     "text": [
      "[()]\n",
      "[('b',), ('a',), ('c',)]\n",
      "[('b', 'a'), ('b', 'c'), ('a', 'c')]\n",
      "[('b', 'a', 'c')]\n"
     ]
    }
   ],
   "source": [
    "A = {'a','b','c'}\n",
    "power(A)"
   ]
  },
  {
   "cell_type": "markdown",
   "metadata": {},
   "source": [
    "### Problem 5"
   ]
  },
  {
   "cell_type": "code",
   "execution_count": 13,
   "metadata": {},
   "outputs": [
    {
     "name": "stdout",
     "output_type": "stream",
     "text": [
      "roll : 6\n",
      "Numbers to eliminate:6\n",
      "Seconds left : 57.77792000770569\n",
      "remaining : [1, 2, 3, 4, 5, 7, 8, 9]\n",
      "roll : 11\n",
      "Numbers to eliminate:4 7\n",
      "Seconds left : 51.134706258773804\n",
      "remaining : [1, 2, 3, 5, 8, 9]\n",
      "roll : 8\n",
      "Numbers to eliminate:8\n",
      "Seconds left : 46.10173583030701\n",
      "remaining : [1, 2, 3, 5, 9]\n",
      "roll : 2\n",
      "Numbers to eliminate:2\n",
      "Seconds left : 39.8431978225708\n",
      "remaining : [1, 3, 5, 9]\n",
      "roll : 4\n",
      "Numbers to eliminate:1 3\n",
      "Seconds left : 36.6398549079895\n",
      "remaining : [5, 9]\n",
      "roll : 8\n",
      "Your score is : 14\n"
     ]
    }
   ],
   "source": [
    "import random, box, sys, time\n",
    "\n",
    "start = time.time()\n",
    "remaining = [1,2,3,4,5,6,7,8,9]\n",
    "roll = random.randint(1,6) + random.randint(1,6)\n",
    "print(\"roll :\",roll)\n",
    "while box.isvalid(roll,remaining):\n",
    "    player_input = input(\"Numbers to eliminate:\")\n",
    "    player_input = box.parse_input(player_input, remaining)\n",
    "    if roll != sum(player_input):\n",
    "        print(\"Numbers don't sum to the roll.\")\n",
    "        continue\n",
    "    else:\n",
    "        end = time.time()\n",
    "        timeleft = 60 + start - end\n",
    "        print(\"Seconds left :\",timeleft)\n",
    "        if timeleft < 0:\n",
    "            print(\"Game over!\")\n",
    "            sys.exit()\n",
    "        else:\n",
    "            eliminate = [int(i) for i in player_input]\n",
    "            remaining = [x for x in remaining if x not in eliminate]\n",
    "            print(\"remaining :\",remaining)\n",
    "            roll = random.randint(1,6) + random.randint(1,6)\n",
    "            print(\"roll :\",roll)\n",
    "        \n",
    "print(\"Your score is :\",sum(remaining))"
   ]
  },
  {
   "cell_type": "markdown",
   "metadata": {},
   "source": [
    "### End"
   ]
  }
 ],
 "metadata": {
  "@webio": {
   "lastCommId": null,
   "lastKernelId": null
  },
  "kernelspec": {
   "display_name": "Python 3",
   "language": "python",
   "name": "python3"
  },
  "language_info": {
   "codemirror_mode": {
    "name": "ipython",
    "version": 3
   },
   "file_extension": ".py",
   "mimetype": "text/x-python",
   "name": "python",
   "nbconvert_exporter": "python",
   "pygments_lexer": "ipython3",
   "version": "3.7.3"
  }
 },
 "nbformat": 4,
 "nbformat_minor": 2
}
