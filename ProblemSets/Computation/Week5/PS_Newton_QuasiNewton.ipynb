{
 "cells": [
  {
   "cell_type": "markdown",
   "metadata": {},
   "source": [
    "# OSE-Summer School 2019\n",
    "## Wk5: Computation, Newton and Quasi Newton Method"
   ]
  },
  {
   "cell_type": "code",
   "execution_count": 1,
   "metadata": {},
   "outputs": [],
   "source": [
    "import numpy as np\n",
    "import sympy as sy\n",
    "import scipy.linalg as la\n",
    "from matplotlib import pyplot as plt\n",
    "from scipy import optimize as opt\n",
    "import time"
   ]
  },
  {
   "cell_type": "markdown",
   "metadata": {},
   "source": [
    "### Problem 1"
   ]
  },
  {
   "cell_type": "code",
   "execution_count": 2,
   "metadata": {},
   "outputs": [
    {
     "name": "stdout",
     "output_type": "stream",
     "text": [
      "Optimization terminated successfully.\n",
      "         Current function value: 0.000000\n",
      "         Iterations: 35\n",
      "         Function evaluations: 42\n",
      "         Gradient evaluations: 42\n"
     ]
    }
   ],
   "source": [
    "f = opt.rosen        # The Rosenbrock function\n",
    "df = opt.rosen_der   # The first derivative\n",
    "d2f = opt.rosen_hess # The second derivative (Hessian)\n",
    "\n",
    "result = opt.fmin_bfgs(f=f, x0=[-2,2], fprime=df, maxiter=1000, retall=True)"
   ]
  },
  {
   "cell_type": "code",
   "execution_count": 3,
   "metadata": {},
   "outputs": [],
   "source": [
    "def newton_method(Df, D2f, x0, maxiter=100, tol=1e-10, disp=False):\n",
    "    \n",
    "    it = 0\n",
    "    x = x0\n",
    "    Dfx_norm = la.norm(Df(x))\n",
    "    \n",
    "    while (Dfx_norm > tol) and (it < maxiter):\n",
    "        \n",
    "        it += 1\n",
    "        z = la.solve(D2f(x), Df(x).T)\n",
    "        xnew = x - z\n",
    "        Dfx_norm = la.norm(Df(xnew))\n",
    "        x = xnew\n",
    "    \n",
    "    if disp == True:\n",
    "        print(\"Iteration: %d,  |Dfx| = %6.6f\" % (it, Dfx_norm))\n",
    "    \n",
    "    return (x, it)"
   ]
  },
  {
   "cell_type": "code",
   "execution_count": 4,
   "metadata": {},
   "outputs": [
    {
     "data": {
      "text/plain": [
       "array([1., 1.])"
      ]
     },
     "execution_count": 4,
     "metadata": {},
     "output_type": "execute_result"
    }
   ],
   "source": [
    "x, it = newton_method(Df=df, D2f=d2f, x0=[-2,2], maxiter=50, tol=1e-10)\n",
    "x"
   ]
  },
  {
   "cell_type": "markdown",
   "metadata": {},
   "source": [
    "### Problem 2"
   ]
  },
  {
   "cell_type": "code",
   "execution_count": 5,
   "metadata": {},
   "outputs": [],
   "source": [
    "def BFGS(Df, x0, maxiter=100, tol=1e-10, disp=True):\n",
    "    \n",
    "    it = 0\n",
    "    x = x0\n",
    "    Dfx = Df(x)\n",
    "    Dfx_norm = la.norm(Dfx)\n",
    "    Ainv = np.eye(len(x))\n",
    "    end = False\n",
    "    \n",
    "    while (Dfx_norm > tol) and (it < maxiter) and (end==False):\n",
    "        \n",
    "        it += 1\n",
    "        s = - Ainv @ Dfx.T\n",
    "        xnew = x + s\n",
    "        Dfxnew = Df(xnew)\n",
    "        Dfx_norm = la.norm(Dfxnew)\n",
    "        \n",
    "        y = Dfxnew.T - Dfx.T\n",
    "        sy = s.T @ y\n",
    "        ys = np.outer(y, s.T)\n",
    "        if (sy)**2 == 0:\n",
    "            print(\"The iteration terminates early because (s'y)^2 = 0\")\n",
    "            end = True\n",
    "        else:\n",
    "            Ainv = Ainv + ((sy + y.T@Ainv@y) / ((sy)**2)) * np.outer(s,s.T) - \\\n",
    "                    (Ainv@ys + ys.T@Ainv) / (sy)\n",
    "        \n",
    "        x = xnew\n",
    "        Dfx = Dfxnew\n",
    "    \n",
    "    if disp == True:\n",
    "        print(\"Iteration: %d,  |Dfx| = %6.6f\" % (it, Dfx_norm))\n",
    "    \n",
    "    return (x, it)"
   ]
  },
  {
   "cell_type": "code",
   "execution_count": 6,
   "metadata": {},
   "outputs": [
    {
     "name": "stdout",
     "output_type": "stream",
     "text": [
      "Iteration: 153,  |Dfx| = 0.000000\n"
     ]
    },
    {
     "data": {
      "text/plain": [
       "array([1., 1.])"
      ]
     },
     "execution_count": 6,
     "metadata": {},
     "output_type": "execute_result"
    }
   ],
   "source": [
    "x, it = BFGS(Df=df, x0=[-2,2], maxiter=1000, tol=1e-10)\n",
    "x"
   ]
  },
  {
   "cell_type": "markdown",
   "metadata": {},
   "source": [
    "### Problem 3"
   ]
  },
  {
   "cell_type": "code",
   "execution_count": 7,
   "metadata": {},
   "outputs": [],
   "source": [
    "def compare(N: int, maxiter=1000, tol=1e-10):\n",
    "    \n",
    "    X = np.zeros((N,3))\n",
    "    Iter = np.zeros((N,3))\n",
    "    Time = np.zeros((N,3)) \n",
    "    \n",
    "    for i in range(N):\n",
    "        \n",
    "        x0 = np.random.uniform(-3,3,2)  # draw two random number from Uniform[-3,3]\n",
    "        \n",
    "        # Newton Method\n",
    "        start = time.time()        \n",
    "        Iter[i,0] = newton_method(df, d2f, x0, maxiter=maxiter, tol=tol, disp=False)[1]\n",
    "        Time[i,0] = time.time() - start\n",
    "        \n",
    "        # My BFGS\n",
    "        start = time.time()\n",
    "        Iter[i,1] = BFGS(df, x0, maxiter=maxiter, tol=tol, disp=False)[1]\n",
    "        Time[i,1] = time.time() - start\n",
    "        \n",
    "        # SciPy's BFGS\n",
    "        start = time.time()\n",
    "        result = opt.fmin_bfgs(f=f, x0=[-2,2], fprime=df, \n",
    "                               maxiter=maxiter, gtol=tol, disp=False, retall=True)\n",
    "        Time[i,2] = time.time() - start\n",
    "        Iter[i,2] = len(result[1]) - 1\n",
    "        \n",
    "    # plot\n",
    "    fig = plt.subplots(1,1,figsize=[8,5])\n",
    "    plt.subplot(111)\n",
    "    plt.scatter(Time[:,0], Iter[:,0], label='Newton Method', alpha=.6, s=50)\n",
    "    plt.scatter(Time[:,1], Iter[:,1], label='BFGS', alpha=.6, s=50)\n",
    "    plt.scatter(Time[:,2], Iter[:,2], label='scipy.optimize.fmin_bfgs()', alpha=.6, s=50)\n",
    "    plt.xscale('log')\n",
    "    plt.yscale('log')\n",
    "    plt.xlabel(\"Time(seconds)\")\n",
    "    plt.ylabel(\"Iterations\")\n",
    "    plt.legend()\n",
    "        \n",
    "    return (Iter, Time)   "
   ]
  },
  {
   "cell_type": "code",
   "execution_count": 18,
   "metadata": {},
   "outputs": [
    {
     "data": {
      "image/png": "[encoded data removed]",
      "text/plain": [
       "<Figure size 576x360 with 1 Axes>"
      ]
     },
     "metadata": {
      "needs_background": "light"
     },
     "output_type": "display_data"
    }
   ],
   "source": [
    "Iter, Time = compare(100)"
   ]
  },
  {
   "cell_type": "markdown",
   "metadata": {},
   "source": [
    "### Problem 4"
   ]
  },
  {
   "cell_type": "code",
   "execution_count": 19,
   "metadata": {},
   "outputs": [],
   "source": [
    "def gauss_newton(jac, residual, x0, maxiter=100, tol=1e-5):\n",
    "    \n",
    "    it = 0\n",
    "    x = x0\n",
    "    rx = residual(x)\n",
    "    Jx = jac(x)\n",
    "    Dfx = Jx.T@rx\n",
    "    converge = False\n",
    "    \n",
    "    while (la.norm(Dfx) > tol) and (it < maxiter):\n",
    "        \n",
    "        it += 1\n",
    "        z = la.solve(Jx.T@Jx, Jx.T)\n",
    "        xnew = x - z@rx\n",
    "        rx = residual(xnew)\n",
    "        Jx = jac(xnew)\n",
    "        Dfx = Jx.T@rx\n",
    "        x = xnew\n",
    "        \n",
    "    if la.norm(Dfx) <= tol:\n",
    "        converge = True\n",
    "    \n",
    "    return (x, converge, it)"
   ]
  },
  {
   "cell_type": "code",
   "execution_count": 20,
   "metadata": {},
   "outputs": [
    {
     "name": "stdout",
     "output_type": "stream",
     "text": [
      "x = [2.9705 0.5137] , conversion = True , Iteration = 5\n"
     ]
    }
   ],
   "source": [
    "# Generate random data\n",
    "T = np.arange(10)\n",
    "y = 3*np.sin(0.5*T) + 0.5*np.random.randn(10) # perturbed data\n",
    "\n",
    "# Define the model function and the residual (based on the data)\n",
    "model = lambda x, t : x[0]*np.sin(x[1]*t)\n",
    "residual = lambda x : model(x, T) - y\n",
    "\n",
    "# Define the Jacobian of the residual function,computed by hand\n",
    "jac = lambda x : np.column_stack((np.sin(x[1]*T), x[0]*T*np.cos(x[1]*T)))\n",
    "\n",
    "# find x\n",
    "x0 = np.array([2.5, 0.6])  # initial guess\n",
    "x, covn, niters = gauss_newton(jac, residual, x0, maxiter=100, tol=1e-3)\n",
    "print(\"x =\", np.round(x,4), \", conversion =\", covn, \", Iteration =\", niters)"
   ]
  },
  {
   "cell_type": "code",
   "execution_count": 21,
   "metadata": {},
   "outputs": [
    {
     "data": {
      "text/plain": [
       "array([0., 0.])"
      ]
     },
     "execution_count": 21,
     "metadata": {},
     "output_type": "execute_result"
    }
   ],
   "source": [
    "# compare it to scipy.optimize.leastsq()\n",
    "minx = opt.leastsq(func=residual, x0=np.array([2.5, 0.6]), Dfun=jac)[0]\n",
    "minx - x"
   ]
  },
  {
   "cell_type": "markdown",
   "metadata": {},
   "source": [
    "### Problem 5"
   ]
  },
  {
   "cell_type": "code",
   "execution_count": 22,
   "metadata": {},
   "outputs": [],
   "source": [
    "# data\n",
    "data = np.load('population.npy')\n",
    "T = data[:,0]\n",
    "y = data[:,1]\n",
    "\n",
    "# Define the exponential model function and the residual\n",
    "exp_model = lambda x, t : x[0]*np.exp(x[1]*(t+x[2]))\n",
    "exp_residual = lambda x : exp_model(x, T) - y\n",
    "\n",
    "# Define the logistic model function and the residual\n",
    "log_model = lambda x, t : x[0] / (1+np.exp(-x[1]*(t+x[2])))\n",
    "log_residual = lambda x : log_model(x, T) - y\n",
    "\n",
    "# Define the Jacobian of the residual function,computed by hand\n",
    "exp_jac = lambda x : np.column_stack(((np.exp(x[1]*(T+x[2])),\n",
    "                                     x[0]*(T+x[2])*np.exp(x[1]*(T+x[2])),\n",
    "                                     x[0]*x[1]*np.exp(x[1]*(T+x[2])))))\n",
    "log_jac = lambda x : np.column_stack(((1/(1+np.exp(-x[1]*(T+x[2]))), \n",
    "                                    (x[0]*(T+x[2])*np.exp(-x[1]*(T+x[2]))) / ((1+np.exp(-x[1]*(T+x[2])))**2),\n",
    "                                    (x[0]*x[1]*np.exp(-x[1]*(T+x[2]))) / ((1+np.exp(-x[1]*(T+x[2])))**2))))\n",
    "\n",
    "# find x using the exponential model\n",
    "exp_x0 = np.array([1.5, 0.4, 2.5])  # initial guess\n",
    "exp_x = opt.leastsq(func=exp_residual, x0=exp_x0, Dfun=exp_jac)[0]\n",
    "                 \n",
    "# find x using the logistic model\n",
    "log_x0 = np.array([150, 0.4, -15])  # initial guess\n",
    "log_x = opt.leastsq(func=log_residual, x0=log_x0, Dfun=log_jac)[0]"
   ]
  },
  {
   "cell_type": "code",
   "execution_count": 23,
   "metadata": {},
   "outputs": [
    {
     "data": {
      "image/png": "[encoded data removed]",
      "text/plain": [
       "<Figure size 576x360 with 1 Axes>"
      ]
     },
     "metadata": {
      "needs_background": "light"
     },
     "output_type": "display_data"
    }
   ],
   "source": [
    "# Plot the fitted model with the observed data and the data-generating curve.\n",
    "dom = np.linspace(T[0], T[-1], 200)\n",
    "\n",
    "fig = plt.subplots(1,1,figsize=[8,5])\n",
    "plt.subplot(111)\n",
    "plt.plot(T, y, '*', label='data')                                # Observed data.\n",
    "plt.plot(dom, exp_model(exp_x, dom), '--', label='exponential')  # Fitted using the exponential model\n",
    "plt.plot(dom, log_model(log_x, dom), label='logistic')           # Fitted using the logistic model\n",
    "plt.legend()\n",
    "plt.show()"
   ]
  },
  {
   "cell_type": "markdown",
   "metadata": {},
   "source": [
    "### End"
   ]
  }
 ],
 "metadata": {
  "@webio": {
   "lastCommId": null,
   "lastKernelId": null
  },
  "kernelspec": {
   "display_name": "Python 3",
   "language": "python",
   "name": "python3"
  },
  "language_info": {
   "codemirror_mode": {
    "name": "ipython",
    "version": 3
   },
   "file_extension": ".py",
   "mimetype": "text/x-python",
   "name": "python",
   "nbconvert_exporter": "python",
   "pygments_lexer": "ipython3",
   "version": "3.7.3"
  }
 },
 "nbformat": 4,
 "nbformat_minor": 2
}
