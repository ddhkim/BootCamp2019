{
 "cells": [
  {
   "cell_type": "markdown",
   "metadata": {},
   "source": [
    "# OSE-Summer School 2019\n",
    "## Wk5: Computation, Iterative Solvers"
   ]
  },
  {
   "cell_type": "code",
   "execution_count": 1,
   "metadata": {},
   "outputs": [],
   "source": [
    "import numpy as np\n",
    "import pandas as pd\n",
    "from matplotlib import pyplot as plt\n",
    "from numpy import linalg as la\n",
    "from random import randint\n",
    "import time"
   ]
  },
  {
   "cell_type": "markdown",
   "metadata": {},
   "source": [
    "### Problem 1"
   ]
  },
  {
   "cell_type": "code",
   "execution_count": 2,
   "metadata": {},
   "outputs": [],
   "source": [
    "def diag_dom(n, num_entries=None):\n",
    "    if num_entries is None:\n",
    "        num_entries = int(n**1.5) - n\n",
    "    A = np.zeros((n,n))\n",
    "    rows = np.random.choice(np.arange(0,n), size=num_entries)\n",
    "    cols = np.random.choice(np.arange(0,n), size=num_entries)\n",
    "    data = np.random.randint(-4, 4, size=num_entries)\n",
    "    for i in range(num_entries):\n",
    "        A[rows[i], cols[i]] = data[i]\n",
    "    for i in range(n):\n",
    "        A[i,i] = np.sum(np.abs(A[i])) + 1\n",
    "    return A"
   ]
  },
  {
   "cell_type": "code",
   "execution_count": 3,
   "metadata": {},
   "outputs": [],
   "source": [
    "def jacobi_method_q1(A, b, tol=1e-10, maxiter=1000):\n",
    "    \n",
    "    if np.any(np.diag(A) == 0):\n",
    "        raise ValueError(\"There is a zero in A's diagonal\")\n",
    "    elif A.shape[0] != A.shape[1]:\n",
    "        raise ValueError(\"The lengths of row and column are different!\")\n",
    "    elif A.shape[0] != len(b):\n",
    "        raise ValueError(\"The lengths of A and b are different!\")\n",
    "    else:\n",
    "        it = 0\n",
    "        diff = 10\n",
    "        x = np.zeros((len(b), 1))\n",
    "        xnew = np.zeros((len(b), 1))\n",
    "        D_inv = np.diag(1/np.diag(A))\n",
    "        while (diff > tol) and (it < maxiter):\n",
    "            it += 1\n",
    "            xnew = x + np.dot(D_inv, (b - np.dot(A, x)))\n",
    "            diff = la.norm(xnew - x)\n",
    "            x = xnew\n",
    "            if it == maxiter:\n",
    "                print(\"The maximum number of iterations is reached!\")\n",
    "                \n",
    "    print(\"Iteration: %4d,   the difference: %6.5e\" % (it, diff))\n",
    "    \n",
    "    return x    "
   ]
  },
  {
   "cell_type": "code",
   "execution_count": 4,
   "metadata": {},
   "outputs": [
    {
     "name": "stdout",
     "output_type": "stream",
     "text": [
      "Iteration:   17,   the difference: 9.34830e-11\n"
     ]
    }
   ],
   "source": [
    "n = randint(100, 10000)\n",
    "b = np.random.random((n, 1))\n",
    "A = diag_dom(n)\n",
    "x = jacobi_method_q1(A, b, tol=1e-10, maxiter=1000)"
   ]
  },
  {
   "cell_type": "code",
   "execution_count": 5,
   "metadata": {},
   "outputs": [
    {
     "data": {
      "text/plain": [
       "True"
      ]
     },
     "execution_count": 5,
     "metadata": {},
     "output_type": "execute_result"
    }
   ],
   "source": [
    "# check the solution\n",
    "np.allclose(np.dot(A,x), b)"
   ]
  },
  {
   "cell_type": "markdown",
   "metadata": {},
   "source": [
    "### Problem 2"
   ]
  },
  {
   "cell_type": "code",
   "execution_count": 6,
   "metadata": {},
   "outputs": [],
   "source": [
    "def jacobi_method_q2(A, b, plot=False, tol=1e-10, maxiter=1000):\n",
    "\n",
    "    if np.any(np.diag(A) == 0):\n",
    "        raise ValueError(\"There is a zero in A's diagonal\")\n",
    "    elif A.shape[0] != A.shape[1]:\n",
    "        raise ValueError(\"The lengths of row and column are different!\")\n",
    "    elif A.shape[0] != len(b):\n",
    "        raise ValueError(\"The lengths of A and b are different!\")\n",
    "    else:\n",
    "        it = 0\n",
    "        diff = 10\n",
    "        x = np.zeros((len(b), 1))\n",
    "        xnew = np.zeros((len(b), 1))\n",
    "        D_inv = np.diag(1/np.diag(A))\n",
    "        error = np.empty(0)\n",
    "        while (diff > tol) and (it < maxiter):\n",
    "            it += 1\n",
    "            xnew = x + np.dot(D_inv, (b - np.dot(A, x)))\n",
    "            diff = la.norm(xnew - x)\n",
    "            error = np.append(error, la.norm(np.dot(A,xnew) - b))\n",
    "            x = xnew\n",
    "            if it == maxiter:\n",
    "                print(\"The maximum number of iterations is reached!\")\n",
    "                \n",
    "    print(\"Iteration: %4d,   the difference: %6.5e\" % (it, diff))\n",
    "    \n",
    "    if plot:\n",
    "        plt.semilogy(np.arange(it), error)\n",
    "        plt.title(\"Convergence of Jacobi Method\")\n",
    "        plt.xlabel(\"Iteration\")\n",
    "        plt.ylabel(\"Absolute Error of Approximation\")\n",
    "    \n",
    "    return x   "
   ]
  },
  {
   "cell_type": "code",
   "execution_count": 7,
   "metadata": {},
   "outputs": [
    {
     "name": "stdout",
     "output_type": "stream",
     "text": [
      "Iteration:   17,   the difference: 7.27344e-11\n"
     ]
    },
    {
     "data": {
      "image/png": "[encoded data removed]",
      "text/plain": [
       "<Figure size 432x288 with 1 Axes>"
      ]
     },
     "metadata": {
      "needs_background": "light"
     },
     "output_type": "display_data"
    }
   ],
   "source": [
    "n = randint(100, 10000)\n",
    "b = np.random.random((n, 1))\n",
    "A = diag_dom(n)\n",
    "x = jacobi_method_q2(A, b, plot=True, tol=1e-10, maxiter=1000)"
   ]
  },
  {
   "cell_type": "markdown",
   "metadata": {},
   "source": [
    "### Problem 3"
   ]
  },
  {
   "cell_type": "code",
   "execution_count": 8,
   "metadata": {},
   "outputs": [],
   "source": [
    "def gauss_seidel_method(A, b, plot=False, tol=1e-10, maxiter=1000):\n",
    "    \n",
    "    if np.any(np.diag(A) == 0):\n",
    "        raise ValueError(\"There is a zero in A's diagonal\")\n",
    "    elif A.shape[0] != A.shape[1]:\n",
    "        raise ValueError(\"The lengths of row and column are different!\")\n",
    "    elif A.shape[0] != len(b):\n",
    "        raise ValueError(\"The lengths of A and b are different!\")\n",
    "    else:\n",
    "        it = 0\n",
    "        diff = 10\n",
    "        x = np.zeros((len(b),1))\n",
    "        xnew = np.zeros((len(b),1))\n",
    "        error = np.empty(0)\n",
    "        \n",
    "        while (diff > tol) and (it < maxiter):\n",
    "            it += 1\n",
    "            for i in range(len(x)):\n",
    "                xnew[i] = x[i] + (1/A[i,i])*(b[i] - np.dot(np.transpose(A[i,:]), xnew))\n",
    "            diff = la.norm(xnew - x)\n",
    "            error = np.append(error, la.norm(np.dot(A,xnew) - b))\n",
    "            x = np.copy(xnew)\n",
    "            if it == maxiter:\n",
    "                print(\"The maximum number of iterations is reached!\")\n",
    "                \n",
    "    print(\"Iteration: %4d,   the difference: %6.5e\" % (it, diff))\n",
    "    if plot:\n",
    "        plt.semilogy(np.arange(it), error)\n",
    "        plt.title(\"Convergence of Jacobi Method\")\n",
    "        plt.xlabel(\"Iteration\")\n",
    "        plt.ylabel(\"Absolute Error of Approximation\")\n",
    "        \n",
    "    return x"
   ]
  },
  {
   "cell_type": "code",
   "execution_count": 9,
   "metadata": {},
   "outputs": [
    {
     "name": "stdout",
     "output_type": "stream",
     "text": [
      "Iteration:   11,   the difference: 5.70943e-11\n"
     ]
    },
    {
     "data": {
      "text/plain": [
       "True"
      ]
     },
     "execution_count": 9,
     "metadata": {},
     "output_type": "execute_result"
    }
   ],
   "source": [
    "n = randint(100, 10000)\n",
    "b = np.random.random((n, 1))\n",
    "A = diag_dom(n)\n",
    "x = gauss_seidel_method(A, b, tol=1e-10, maxiter=1000)\n",
    "np.allclose(np.dot(A,x),b)"
   ]
  },
  {
   "cell_type": "code",
   "execution_count": 10,
   "metadata": {},
   "outputs": [
    {
     "name": "stdout",
     "output_type": "stream",
     "text": [
      "Iteration:   40,   the difference: 5.68100e-11\n",
      "Iteration:   15,   the difference: 4.63531e-11\n"
     ]
    },
    {
     "data": {
      "text/plain": [
       "True"
      ]
     },
     "execution_count": 10,
     "metadata": {},
     "output_type": "execute_result"
    }
   ],
   "source": [
    "# Jacobi method vs Gauss-Seidel method\n",
    "A = np.array([[2,0,-1],[-1,3,2],[0,1,3]])\n",
    "b = np.array([[3],[3],[-1]])\n",
    "x_jacobi = jacobi_method_q2(A,b)\n",
    "x_gauss = gauss_seidel_method(A,b)\n",
    "np.allclose(x_jacobi, x_gauss)"
   ]
  },
  {
   "cell_type": "markdown",
   "metadata": {},
   "source": [
    "### Problem 4"
   ]
  },
  {
   "cell_type": "code",
   "execution_count": 11,
   "metadata": {},
   "outputs": [],
   "source": [
    "from scipy import sparse\n",
    "\n",
    "def gauss_seidel_sparse(A, b, tol=1e-10, maxiter=1000):\n",
    "    \n",
    "    if A.shape[0] != A.shape[1]:\n",
    "        raise ValueError(\"The lengths of row and column are different!\")\n",
    "    elif A.shape[0] != len(b):\n",
    "        raise ValueError(\"The lengths of A and b are different!\")\n",
    "    else:\n",
    "        it = 0\n",
    "        diff = 10\n",
    "        x = np.zeros((len(b),1))\n",
    "        xnew = np.zeros((len(b),1))\n",
    "        \n",
    "        while (diff > tol) and (it < maxiter):\n",
    "            it += 1\n",
    "            for i in range(len(x)):\n",
    "                rowstart = A.indptr[i]\n",
    "                rowend = A.indptr[i+1]\n",
    "                Aix = A.data[rowstart:rowend] @ xnew[A.indices[rowstart:rowend]]\n",
    "                xnew[i] = x[i] + (1/A[i,i])*(b[i] - Aix)\n",
    "            diff = la.norm(xnew - x)\n",
    "            x = np.copy(xnew)\n",
    "            if it == maxiter:\n",
    "                print(\"The maximum number of iterations is reached!\")\n",
    "                \n",
    "    print(\"Iteration: %4d,   the difference: %6.5e\" % (it, diff))\n",
    "        \n",
    "    return x"
   ]
  },
  {
   "cell_type": "code",
   "execution_count": 12,
   "metadata": {},
   "outputs": [
    {
     "name": "stdout",
     "output_type": "stream",
     "text": [
      "Iteration:   11,   the difference: 5.51708e-11\n",
      "Elapsed = 3.13 seconds\n"
     ]
    },
    {
     "data": {
      "text/plain": [
       "True"
      ]
     },
     "execution_count": 12,
     "metadata": {},
     "output_type": "execute_result"
    }
   ],
   "source": [
    "A = sparse.csr_matrix(diag_dom(10000))\n",
    "b = np.random.random((10000,1))\n",
    "\n",
    "start = time.time()\n",
    "x = gauss_seidel_sparse(A,b)\n",
    "end = time.time()\n",
    "print(\"Elapsed = %4.2f seconds\" % (end - start))\n",
    "\n",
    "# check the solution\n",
    "np.allclose(A @ x, b)"
   ]
  },
  {
   "cell_type": "markdown",
   "metadata": {},
   "source": [
    "### Problem 5"
   ]
  },
  {
   "cell_type": "code",
   "execution_count": 13,
   "metadata": {},
   "outputs": [],
   "source": [
    "def successive_over_relaxation(A, b, w=1, tol=1e-10, maxiter=1000):\n",
    "    '''\n",
    "    if w=1, it is equivalent to Gauss-Seidel Sparse Method\n",
    "    '''\n",
    "    \n",
    "    if A.shape[0] != A.shape[1]:\n",
    "        raise ValueError(\"The lengths of row and column are different!\")\n",
    "    elif A.shape[0] != len(b):\n",
    "        raise ValueError(\"The lengths of A and b are different!\")\n",
    "    else:\n",
    "        it = 0\n",
    "        diff = 10\n",
    "        x = np.zeros((len(b),1))\n",
    "        xnew = np.zeros((len(b),1))\n",
    "        \n",
    "        while (diff > tol) and (it < maxiter):\n",
    "            it += 1\n",
    "            for i in range(len(x)):\n",
    "                rowstart = A.indptr[i]\n",
    "                rowend = A.indptr[i+1]\n",
    "                Aix = A.data[rowstart:rowend] @ xnew[A.indices[rowstart:rowend]]\n",
    "                xnew[i] = x[i] + (w/A[i,i])*(b[i] - Aix)\n",
    "            diff = la.norm(xnew - x)\n",
    "            x = np.copy(xnew)\n",
    "            if it == maxiter:\n",
    "                print(\"The maximum number of iterations is reached!\")\n",
    "                \n",
    "    print(\"Iteration: %4d,   the difference: %6.5e\" % (it, diff))\n",
    "        \n",
    "    return (x, it)"
   ]
  },
  {
   "cell_type": "code",
   "execution_count": 14,
   "metadata": {},
   "outputs": [
    {
     "name": "stdout",
     "output_type": "stream",
     "text": [
      "Iteration:   13,   the difference: 8.78637e-11\n",
      "Elapsed = 3.58 seconds\n"
     ]
    },
    {
     "data": {
      "text/plain": [
       "True"
      ]
     },
     "execution_count": 14,
     "metadata": {},
     "output_type": "execute_result"
    }
   ],
   "source": [
    "A = sparse.csr_matrix(diag_dom(10000))\n",
    "b = np.random.random((10000,1))\n",
    "\n",
    "start = time.time()\n",
    "x, it = successive_over_relaxation(A,b,w=1.1)\n",
    "end = time.time()\n",
    "print(\"Elapsed = %4.2f seconds\" % (end - start))\n",
    "\n",
    "# check the solution\n",
    "np.allclose(A @ x, b)"
   ]
  },
  {
   "cell_type": "markdown",
   "metadata": {},
   "source": [
    "### Problem 6"
   ]
  },
  {
   "cell_type": "code",
   "execution_count": 15,
   "metadata": {},
   "outputs": [],
   "source": [
    "def finite_diff_method(n: int, w, tol=10e-8, maxiter=100, plot=False):\n",
    "    \n",
    "    # construct the matrix A    \n",
    "    A = np.eye(n*n)*(-4) + np.eye(n*n, k=1) + np.eye(n*n, k=-1) + \\\n",
    "        np.eye(n*n, k=-n) + np.eye(n*n, k=n)\n",
    "    for i in range(1,n):\n",
    "        A[n*i-1, n*i] = 0\n",
    "        A[n*i, n*i-1] = 0\n",
    "    A = sparse.csr_matrix(A)\n",
    "    \n",
    "    # construct the vector b\n",
    "    b = np.zeros((n,1))\n",
    "    b[0] = -100\n",
    "    b[n-1] = -100\n",
    "    b = np.tile(b, (n,1))\n",
    "    \n",
    "    #u, it = gauss_seidel_method(A, b, tol=tol, maxiter=maxiter)\n",
    "    u, it = successive_over_relaxation(A, b, w=w, tol=tol, maxiter=maxiter)\n",
    "    \n",
    "    if plot:\n",
    "        plt.pcolormesh(np.reshape(u,(n,n)), cmap='coolwarm')\n",
    "        \n",
    "    return u, it"
   ]
  },
  {
   "cell_type": "code",
   "execution_count": 16,
   "metadata": {},
   "outputs": [
    {
     "name": "stdout",
     "output_type": "stream",
     "text": [
      "Iteration:  953,   the difference: 9.86970e-09\n"
     ]
    },
    {
     "data": {
      "image/png": "[encoded data removed]",
      "text/plain": [
       "<Figure size 432x288 with 1 Axes>"
      ]
     },
     "metadata": {
      "needs_background": "light"
     },
     "output_type": "display_data"
    }
   ],
   "source": [
    "u, it = finite_diff_method(20, 1, tol=1e-8, maxiter=1000, plot=True)"
   ]
  },
  {
   "cell_type": "markdown",
   "metadata": {},
   "source": [
    "### Problem 7"
   ]
  },
  {
   "cell_type": "code",
   "execution_count": 19,
   "metadata": {},
   "outputs": [
    {
     "name": "stdout",
     "output_type": "stream",
     "text": [
      "Iteration:  338,   the difference: 9.86841e-03\n",
      "Iteration:  310,   the difference: 9.79437e-03\n",
      "Iteration:  284,   the difference: 9.74669e-03\n",
      "Iteration:  259,   the difference: 9.95433e-03\n",
      "Iteration:  237,   the difference: 9.75825e-03\n",
      "Iteration:  216,   the difference: 9.68568e-03\n",
      "Iteration:  196,   the difference: 9.71091e-03\n",
      "Iteration:  177,   the difference: 9.80116e-03\n",
      "Iteration:  159,   the difference: 9.90796e-03\n",
      "Iteration:  142,   the difference: 9.95391e-03\n",
      "Iteration:  126,   the difference: 9.81343e-03\n",
      "Iteration:  111,   the difference: 9.28783e-03\n",
      "Iteration:   95,   the difference: 9.86045e-03\n",
      "Iteration:   80,   the difference: 9.61127e-03\n",
      "Iteration:   64,   the difference: 9.72316e-03\n",
      "Iteration:   46,   the difference: 7.50638e-03\n",
      "Iteration:   55,   the difference: 8.39072e-03\n",
      "Iteration:   76,   the difference: 9.18191e-03\n",
      "Iteration:  109,   the difference: 7.91360e-03\n",
      "Iteration:  214,   the difference: 9.38703e-03\n",
      "\n",
      "the optimal relaxation factor w is 1.75\n"
     ]
    },
    {
     "data": {
      "image/png": "[encoded data removed]",
      "text/plain": [
       "<Figure size 432x288 with 1 Axes>"
      ]
     },
     "metadata": {
      "needs_background": "light"
     },
     "output_type": "display_data"
    }
   ],
   "source": [
    "nw = 20\n",
    "w_set = np.linspace(1, 1.95, nw)\n",
    "iteration = np.zeros(nw)\n",
    "n = 20\n",
    "\n",
    "for i, w in enumerate(w_set):\n",
    "    u, it = finite_diff_method(n, w, tol=1e-2, maxiter=1000)\n",
    "    iteration[i] = it\n",
    "    \n",
    "plt.plot(w_set, iteration)\n",
    "plt.xlabel(\"w\")\n",
    "plt.ylabel(\"a number of iterations\")\n",
    "plt.title(\"the required number of iterations by the relaxation factor w\")\n",
    "\n",
    "print(\"\")\n",
    "print(\"the optimal relaxation factor w is %1.2f\" % w_set[iteration.argmin()])"
   ]
  },
  {
   "cell_type": "markdown",
   "metadata": {},
   "source": [
    "### End"
   ]
  }
 ],
 "metadata": {
  "@webio": {
   "lastCommId": null,
   "lastKernelId": null
  },
  "kernelspec": {
   "display_name": "Python 3",
   "language": "python",
   "name": "python3"
  },
  "language_info": {
   "codemirror_mode": {
    "name": "ipython",
    "version": 3
   },
   "file_extension": ".py",
   "mimetype": "text/x-python",
   "name": "python",
   "nbconvert_exporter": "python",
   "pygments_lexer": "ipython3",
   "version": "3.7.3"
  }
 },
 "nbformat": 4,
 "nbformat_minor": 2
}
