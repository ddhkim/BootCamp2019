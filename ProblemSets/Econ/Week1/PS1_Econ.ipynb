{
 "cells": [
  {
   "cell_type": "markdown",
   "metadata": {},
   "source": [
    "# OSE-Summer School 2019\n",
    "## Econ PS1, Felix Kubler"
   ]
  },
  {
   "cell_type": "code",
   "execution_count": 195,
   "metadata": {},
   "outputs": [],
   "source": [
    "import numpy as np\n",
    "import random\n",
    "from matplotlib import pyplot as plt\n",
    "from scipy.optimize import fsolve\n",
    "from scipy.interpolate import interp1d\n",
    "from numpy.polynomial import chebyshev"
   ]
  },
  {
   "cell_type": "markdown",
   "metadata": {},
   "source": [
    "### 1. Asset market equilibrium"
   ]
  },
  {
   "cell_type": "code",
   "execution_count": 184,
   "metadata": {},
   "outputs": [],
   "source": [
    "def asset_market_eqm(gamma):\n",
    "    \n",
    "    def equations(x):\n",
    "        # q1 : price of A1\n",
    "        # q2 : price of A2\n",
    "        # a1 : agent1's position on A1\n",
    "        # a2 : agent2's position on A2\n",
    "        q1, q2, a1, a2 = x\n",
    "    \n",
    "        # given parameters\n",
    "        S = 4\n",
    "        e1 = np.array([1,1,2,1,2])\n",
    "        e2 = np.array([1,3,1,3,1])\n",
    "        A1 = np.array([1,1,1,1])\n",
    "        A2 = np.array([1,1,1.5,1.5])\n",
    "    \n",
    "        # optimality conditions\n",
    "        eq1 = (e1[0]-q1*a1-q2*a2)**(-gamma)*q1- \\\n",
    "            (1/S)*((e1[1]+a1*A1[0]+a2*A2[0])**(-gamma)*A1[0]+\n",
    "            (e1[2]+a1*A1[1]+a2*A2[1])**(-gamma)*A1[1]+\n",
    "            (e1[3]+a1*A1[2]+a2*A2[2])**(-gamma)*A1[2]+\n",
    "            (e1[4]+a1*A1[3]+a2*A2[3])**(-gamma)*A1[3])\n",
    "        \n",
    "        eq2 = (e1[0]-q1*a1-q2*a2)**(-gamma)*q2- \\\n",
    "            (1/S)*((e1[1]+a1*A1[0]+a2*A2[0])**(-gamma)*A2[0]+\n",
    "            (e1[2]+a1*A1[1]+a2*A2[1])**(-gamma)*A2[1]+\n",
    "            (e1[3]+a1*A1[2]+a2*A2[2])**(-gamma)*A2[2]+\n",
    "            (e1[4]+a1*A1[3]+a2*A2[3])**(-gamma)*A2[3])\n",
    "        \n",
    "        eq3 = (e2[0]+q1*a1+q2*a2)**(-gamma)*q1- \\\n",
    "            (1/S)*((e2[1]-a1*A1[0]-a2*A2[0])**(-gamma)*A1[0]+\n",
    "            (e2[2]-a1*A1[1]-a2*A2[1])**(-gamma)*A1[1]+\n",
    "            (e2[3]-a1*A1[2]-a2*A2[2])**(-gamma)*A1[2]+\n",
    "            (e2[4]-a1*A1[3]-a2*A2[3])**(-gamma)*A1[3])\n",
    "        \n",
    "        eq4 = (e2[0]+q1*a1+q2*a2)**(-gamma)*q2- \\\n",
    "            (1/S)*((e2[1]-a1*A1[0]-a2*A2[0])**(-gamma)*A2[0]+\n",
    "            (e2[2]-a1*A1[1]-a2*A2[1])**(-gamma)*A2[1]+\n",
    "            (e2[3]-a1*A1[2]-a2*A2[2])**(-gamma)*A2[2]+\n",
    "            (e2[4]-a1*A1[3]-a2*A2[3])**(-gamma)*A2[3])\n",
    "        \n",
    "        return (eq1,eq2,eq3,eq4)\n",
    "    \n",
    "    sol = fsolve(equations, (0.5,1,0,0))\n",
    "    return sol"
   ]
  },
  {
   "cell_type": "code",
   "execution_count": 185,
   "metadata": {},
   "outputs": [
    {
     "name": "stdout",
     "output_type": "stream",
     "text": [
      "(gamma=2)    (q1,q2,a1,a2) =  [0.59  0.737 0.02  0.   ]\n",
      "(gamma=4)    (q1,q2,a1,a2) =  [ 0.519  0.648  0.004 -0.   ]\n",
      "(gamma=8)    (q1,q2,a1,a2) =  [ 0.501  0.626  0.    -0.   ]\n",
      "(gamma=166)  (q1,q2,a1,a2) =  [ 0.5    0.625 -0.     0.   ]\n"
     ]
    }
   ],
   "source": [
    "sol_gamma2 = asset_market_eqm(2)\n",
    "sol_gamma4 = asset_market_eqm(4)\n",
    "sol_gamma8 = asset_market_eqm(8)\n",
    "sol_gamma166 = asset_market_eqm(166)\n",
    "print(\"(gamma=2)   \",\"(q1,q2,a1,a2) = \",np.round(sol_gamma2,3))\n",
    "print(\"(gamma=4)   \",\"(q1,q2,a1,a2) = \",np.round(sol_gamma4,3))\n",
    "print(\"(gamma=8)   \",\"(q1,q2,a1,a2) = \",np.round(sol_gamma8,3))\n",
    "print(\"(gamma=166) \",\"(q1,q2,a1,a2) = \",np.round(sol_gamma166,3))"
   ]
  },
  {
   "cell_type": "markdown",
   "metadata": {},
   "source": [
    "### 2. Dynamic Programming (Tic-Tac-Toe)"
   ]
  },
  {
   "cell_type": "code",
   "execution_count": 186,
   "metadata": {},
   "outputs": [],
   "source": [
    "def ret_sums(state):\n",
    "    row_sum = np.sum(state, axis=0)\n",
    "    col_sum = np.sum(state, axis=1)\n",
    "    diag_sum = np.array([int(state[0,0])+int(state[1,1])+int(state[2,2]), int(state[2,0])+ int(state[1,1])+ int(state[0,2])])\n",
    "    return row_sum, col_sum, diag_sum"
   ]
  },
  {
   "cell_type": "code",
   "execution_count": 187,
   "metadata": {},
   "outputs": [],
   "source": [
    "def check_win(state):\n",
    "    temp_state = state == 1\n",
    "    row_sum, col_sum, diag_sum = ret_sums(temp_state)\n",
    "    check1 = max([np.sum(row_sum>2), np.sum(col_sum>2), np.sum(diag_sum>2)])\n",
    "    temp_state = state == -1\n",
    "    row_sum, col_sum, diag_sum = ret_sums(temp_state)\n",
    "    check2 = max([np.sum(row_sum>2), np.sum(col_sum>2), np.sum(diag_sum>2)])\n",
    "    return max(check1, check2)"
   ]
  },
  {
   "cell_type": "code",
   "execution_count": 188,
   "metadata": {},
   "outputs": [
    {
     "name": "stdout",
     "output_type": "stream",
     "text": [
      "[[ 0  0  0]\n",
      " [ 0  0  0]\n",
      " [-1  0  0]]\n",
      "Enter coordinate: row\n",
      "0\n",
      "Enter coordinate: column\n",
      "0\n",
      "[[ 1  0  0]\n",
      " [ 0 -1  0]\n",
      " [-1  0  0]]\n",
      "Enter coordinate: row\n",
      "1\n",
      "Enter coordinate: column\n",
      "1\n",
      "Invalid, try again.\n",
      "Enter coordinate: row\n",
      "2\n",
      "Enter coordinate: column\n",
      "2\n",
      "computer wins!\n",
      "[[ 1  0 -1]\n",
      " [ 0 -1  0]\n",
      " [-1  0  1]]\n"
     ]
    }
   ],
   "source": [
    "state = np.array([[0, 0, 0], [0, 0, 0], [-1, 0, 0]])\n",
    "while not check_win(state):\n",
    "    print(state)\n",
    "    valid = True\n",
    "    while valid:\n",
    "        print('Enter coordinate: row')\n",
    "        p1x = input()\n",
    "        print('Enter coordinate: column')\n",
    "        p1y = input()        \n",
    "        try:\n",
    "            if state[int(p1x),int(p1y)] != 0:\n",
    "                print('Invalid, try again.')\n",
    "            else:\n",
    "                state[int(p1x),int(p1y)] = 1\n",
    "                valid = False\n",
    "        except:\n",
    "            print('Invalid, try again.')\n",
    "    if check_win(state):\n",
    "            print('you win!')\n",
    "            break\n",
    "    try:\n",
    "        # 1. dynamic programming logic: cycle through available coords, if can win now, choose that cord\n",
    "        # 2. otherwise min continuation value, that is, choose a coord to block p1's win, if possible\n",
    "        # 3. if no threats, randomize (or randomize blocking coords)\n",
    "        \n",
    "        avail_cords = [(i,j) for i,j in zip(*np.where(state==0))] \n",
    "        # 1. dynamic programming logic: cycle through available coords, if can win now, choose that cord\n",
    "        win_cord = None\n",
    "        winning = False\n",
    "        for cord in avail_cords:\n",
    "            temp_state = state.copy()\n",
    "            temp_state[cord] = -1\n",
    "            if check_win(temp_state):\n",
    "                winning = True\n",
    "                win_cord = cord\n",
    "        if winning:\n",
    "            state[win_cord] = -1\n",
    "        # 2. otherwise min continuation value, that is, choose a coord to block p1's win, if possible\n",
    "        else:\n",
    "            possible_cords = []\n",
    "            for cord in avail_cords:\n",
    "                temp_state = state.copy()\n",
    "                temp_state[cord] = -1\n",
    "                temp_avail_cords = [(i,j) for i,j in zip(*np.where(temp_state==0))] \n",
    "                p1_win = False\n",
    "                for cord2 in temp_avail_cords:\n",
    "                    temp_state2 = temp_state.copy()\n",
    "                    temp_state2[cord2] = 1\n",
    "                    if check_win(temp_state2):\n",
    "                        p1_win = True\n",
    "                if not p1_win:\n",
    "                    possible_cords.append(cord)\n",
    "        # 3. if no threats, randomize (or randomize blocking coords)\n",
    "            state[random.choice(possible_cords)] = -1        \n",
    "    except:\n",
    "        if not check_win(state):\n",
    "            print('draw')\n",
    "            break\n",
    "    finally:\n",
    "        if check_win(state):\n",
    "            print('computer wins!')\n",
    "            break\n",
    "print(state)\n",
    "state = np.array([[0, 0, 0], [0, 0, 0], [-1, 0, 0]])"
   ]
  },
  {
   "cell_type": "markdown",
   "metadata": {},
   "source": [
    "### 3. Ramsey I"
   ]
  },
  {
   "cell_type": "code",
   "execution_count": 189,
   "metadata": {},
   "outputs": [],
   "source": [
    "def ramsey_VFI(beta,kmin,kmax,nk):\n",
    "    ## input\n",
    "    # beta : discount factor\n",
    "    # kmin : minimum value of capital\n",
    "    # kmax : maximum value of capital\n",
    "    # nk   : the number of capital grids\n",
    "    \n",
    "    # capital grid\n",
    "    kgrid = np.linspace(kmin,kmax,num=nk)\n",
    "\n",
    "    # transition matrix\n",
    "    pi = np.array([0.5,0.5])\n",
    "\n",
    "    # required matrices and vectors\n",
    "    mY = np.zeros((len(kgrid),len(pi)),dtype=float)    # save output\n",
    "    mV = np.zeros_like(mY)                             # save values for value function\n",
    "    mPk = np.zeros_like(mY)                            # save optimal capital choice\n",
    "    eV = np.zeros_like(mY)                             # save expected continuation value\n",
    "    mVnew = np.zeros_like(mY)                          # save values for value function\n",
    "\n",
    "    # production function\n",
    "    def production(k,j):\n",
    "        if j==0:\n",
    "            f = 0.9*k**0.3 + 0.3*k\n",
    "        else:\n",
    "            f = 1.1*k**0.3 + 0.9*k\n",
    "        return f\n",
    "\n",
    "    # output\n",
    "    for j in range(len(pi)):\n",
    "        mY[:,j] = production(kgrid,j)\n",
    "\n",
    "    # Value function iteration\n",
    "    diff = 10\n",
    "    it = 0\n",
    "    tol = 10e-6\n",
    "\n",
    "    while(diff > tol):\n",
    "        \n",
    "        it = it + 1\n",
    "        eV = np.dot(mV,pi)\n",
    "        \n",
    "        for j in range(len(pi)):\n",
    "            \n",
    "            VV = -10000.0\n",
    "            index = 0\n",
    "            \n",
    "            for ik in range(len(kgrid)):\n",
    "                \n",
    "                for ikp in range(index,len(kgrid)):\n",
    "                    \n",
    "                    cons = mY[ik,j]-kgrid[ikp]\n",
    "                    val = np.log(cons) + beta*eV[ikp]\n",
    "                \n",
    "                    if val > VV:\n",
    "                        VV = val\n",
    "                        kp = kgrid[ikp]\n",
    "                        index = ikp\n",
    "                    else:\n",
    "                        break\n",
    "                    \n",
    "                mVnew[ik,j] = VV\n",
    "                mPk[ik,j] = kp\n",
    "            \n",
    "        diff = np.max(abs(mVnew-mV))\n",
    "        mV = mVnew\n",
    "        mVnew = np.zeros((len(kgrid),len(pi)),dtype=float)\n",
    "    \n",
    "    print(\"Iteration = \",it,\",  diff = \",diff)\n",
    "    \n",
    "    # figures (f1 : value function, f2 : policy function)\n",
    "    f1 = plt.figure()\n",
    "    f2 = plt.figure()\n",
    "    ax1 = f1.add_subplot(111)\n",
    "    ax1.plot(kgrid,mV)\n",
    "    ax1.legend([\"z=1\",\"z=2\"])\n",
    "    ax1.set_title('value function')\n",
    "    ax2 = f2.add_subplot(111)\n",
    "    ax2.plot(kgrid,mPk)\n",
    "    ax2.legend([\"z=1\",\"z=2\"])\n",
    "    ax2.set_title('policy function')\n",
    "    plt.show()\n",
    "    \n",
    "    return mPk, kgrid"
   ]
  },
  {
   "cell_type": "code",
   "execution_count": 190,
   "metadata": {},
   "outputs": [
    {
     "name": "stdout",
     "output_type": "stream",
     "text": [
      "Iteration =  105 ,  diff =  9.995752350278053e-06\n"
     ]
    },
    {
     "data": {
      "image/png": "[encoded data removed]",
      "text/plain": [
       "<Figure size 432x288 with 1 Axes>"
      ]
     },
     "metadata": {
      "needs_background": "light"
     },
     "output_type": "display_data"
    },
    {
     "data": {
      "image/png": "[encoded data removed]",
      "text/plain": [
       "<Figure size 432x288 with 1 Axes>"
      ]
     },
     "metadata": {
      "needs_background": "light"
     },
     "output_type": "display_data"
    }
   ],
   "source": [
    "beta, kmin, kmax = 0.9, 0.2, 2.0\n",
    "\n",
    "# the number of capital points = 50\n",
    "mPk, kgrid = ramsey_VFI(beta,kmin,kmax,50)"
   ]
  },
  {
   "cell_type": "code",
   "execution_count": 191,
   "metadata": {},
   "outputs": [
    {
     "name": "stdout",
     "output_type": "stream",
     "text": [
      "Iteration =  105 ,  diff =  9.990483335720057e-06\n"
     ]
    },
    {
     "data": {
      "image/png": "[encoded data removed]",
      "text/plain": [
       "<Figure size 432x288 with 1 Axes>"
      ]
     },
     "metadata": {
      "needs_background": "light"
     },
     "output_type": "display_data"
    },
    {
     "data": {
      "image/png": "[encoded data removed]",
      "text/plain": [
       "<Figure size 432x288 with 1 Axes>"
      ]
     },
     "metadata": {
      "needs_background": "light"
     },
     "output_type": "display_data"
    }
   ],
   "source": [
    "# the number of capital points = 500\n",
    "mPk, kgrid = ramsey_VFI(beta,kmin,kmax,500)"
   ]
  },
  {
   "cell_type": "markdown",
   "metadata": {},
   "source": [
    "## 4. The Stochastic Ramsey Model - time iteration collocation"
   ]
  },
  {
   "cell_type": "markdown",
   "metadata": {},
   "source": [
    "### a. policy time iteration with piecewise linear interpolation"
   ]
  },
  {
   "cell_type": "code",
   "execution_count": 192,
   "metadata": {},
   "outputs": [],
   "source": [
    "def up(x):\n",
    "    return 1/x\n",
    "\n",
    "def f1(k):\n",
    "    return 0.9*k**0.3 + 0.3*k\n",
    "\n",
    "def f2(k):\n",
    "    return 1.1*k**0.3 + 0.9*k\n",
    "\n",
    "def fp1(k):\n",
    "    return 0.27*k**(-0.7) + 0.3\n",
    "\n",
    "def fp2(k):\n",
    "    return 0.33*k**(-0.7) + 0.9\n",
    "\n",
    "def euler_eq(kp,*args):\n",
    "    j, beta, k, interp1, interp2 = args\n",
    "    if j == 0:\n",
    "        eq = beta * 0.5 * (up(f1(kp) - interp1(kp)) * fp1(kp) +\n",
    "                    up(f2(kp) - interp2(kp)) * fp2(kp)) - up(f1(k)-kp)\n",
    "    else:\n",
    "        eq = beta * 0.5 * (up(f1(kp) - interp1(kp)) * fp1(kp) +\n",
    "                    up(f2(kp) - interp2(kp)) * fp2(kp)) - up(f2(k)-kp)\n",
    "    return abs(eq)\n",
    "\n",
    "def ramsey_PTI(maxiter,tol,numPiece,kmin,kmax):\n",
    "    \n",
    "    it = 0\n",
    "    diff = 10\n",
    "    \n",
    "    # capital grid\n",
    "    kgrid = np.linspace(kmin,kmax,num=(numPiece+1))\n",
    "    nk = len(kgrid)\n",
    "    \n",
    "    Pknew = np.ones((nk,2))\n",
    "    \n",
    "    while (diff > tol) and (it < maxiter):\n",
    "\n",
    "        it += 1\n",
    "        Pk = Pknew.copy()        \n",
    "        \n",
    "        interp1 = interp1d(kgrid, Pk[:,0], kind='linear', fill_value='extrapolate')\n",
    "        interp2 = interp1d(kgrid, Pk[:,1], kind='linear', fill_value='extrapolate')\n",
    "                    \n",
    "        for ik in range(nk):\n",
    "            \n",
    "            k = kgrid[ik]\n",
    "            \n",
    "            args1 = (0, 0.9, k, interp1, interp2)\n",
    "            sol1 = fsolve(euler_eq,kmin,args1)\n",
    "            Pknew[ik,0] = sol1\n",
    "            \n",
    "            args2 = (1, 0.9, k, interp1, interp2)\n",
    "            sol2 = fsolve(euler_eq,kmin,args2)\n",
    "            Pknew[ik,1] = sol2\n",
    "\n",
    "        diff = np.max(abs(Pk - Pknew))\n",
    "    \n",
    "    print(\"Iteration = \",it,\",  diff = \",diff)\n",
    "    \n",
    "    # figures (f1 : value function, f2 : policy function)\n",
    "    plt.plot(kgrid,Pk)\n",
    "    plt.legend([\"z=1\",\"z=2\"])\n",
    "    plt.title('policy function')\n",
    "    plt.show()\n",
    "    \n",
    "    return Pk, kgrid"
   ]
  },
  {
   "cell_type": "code",
   "execution_count": 193,
   "metadata": {},
   "outputs": [
    {
     "name": "stderr",
     "output_type": "stream",
     "text": [
      "/home/dohan/anaconda3/lib/python3.7/site-packages/ipykernel_launcher.py:5: RuntimeWarning: invalid value encountered in power\n",
      "  \"\"\"\n",
      "/home/dohan/anaconda3/lib/python3.7/site-packages/ipykernel_launcher.py:11: RuntimeWarning: invalid value encountered in power\n",
      "  # This is added back by InteractiveShellApp.init_path()\n",
      "/home/dohan/anaconda3/lib/python3.7/site-packages/ipykernel_launcher.py:8: RuntimeWarning: invalid value encountered in power\n",
      "  \n",
      "/home/dohan/anaconda3/lib/python3.7/site-packages/ipykernel_launcher.py:14: RuntimeWarning: invalid value encountered in power\n",
      "  \n"
     ]
    },
    {
     "name": "stdout",
     "output_type": "stream",
     "text": [
      "Iteration =  21 ,  diff =  5.66103470767132e-07\n"
     ]
    },
    {
     "data": {
      "image/png": "[encoded data removed]",
      "text/plain": [
       "<Figure size 432x288 with 1 Axes>"
      ]
     },
     "metadata": {
      "needs_background": "light"
     },
     "output_type": "display_data"
    }
   ],
   "source": [
    "maxiter, tol, numPiece, kmin, kmax = 100, 1e-6, 30, 0.2, 2.0\n",
    "Pk, kgrid = ramsey_PTI(maxiter,tol,numPiece,kmin,kmax)"
   ]
  },
  {
   "cell_type": "markdown",
   "metadata": {},
   "source": [
    "### Chebyshev Polynomials of 5 degree"
   ]
  },
  {
   "cell_type": "code",
   "execution_count": 205,
   "metadata": {},
   "outputs": [],
   "source": [
    "def zeros_of_chebyshev_polynomials(nd, kmin, kmax):\n",
    "    kgrid = np.zeros(nd+1)\n",
    "    m = np.size(kgrid)\n",
    "    for i in range(m):\n",
    "        kgrid[i] = -np.cos(((2*(i+1)-1.)/(2*m))*np.pi)\n",
    "    kgrid = 0.5*(kmin+kmax)+0.5*(kmax-kmin)*kgrid\n",
    "    kgrid.sort()\n",
    "    return kgrid\n",
    "\n",
    "def chebyshev_coef(kgrid, Pk, nd):\n",
    "    coef = chebyshev.chebfit(kgrid, Pk, nd)\n",
    "    return coef\n",
    "\n",
    "def ramsey_chebyshev(maxiter,tol,nd,kmin,kmax):\n",
    "    \n",
    "    it = 0\n",
    "    diff = 10\n",
    "    \n",
    "    # capital grid\n",
    "    kgrid = zeros_of_chebyshev_polynomials(nd, kmin, kmax)\n",
    "    \n",
    "    Pknew = np.ones((nd+1,2))\n",
    "    \n",
    "    while (diff > tol) and (it < maxiter):\n",
    "\n",
    "        it += 1\n",
    "        Pk = Pknew.copy()\n",
    "        \n",
    "        coef1 = chebyshev_coef(kgrid,Pk[:,0],nd)\n",
    "        coef2 = chebyshev_coef(kgrid,Pk[:,1],nd)\n",
    "        \n",
    "        interp1 = lambda x : chebyshev.chebval(x, coef1)\n",
    "        interp2 = lambda x : chebyshev.chebval(x, coef2)\n",
    "        nk = nd + 1\n",
    "            \n",
    "        for ik in range(nk):\n",
    "            \n",
    "            k = kgrid[ik]\n",
    "            \n",
    "            args1 = (0, 0.9, k, interp1, interp2)\n",
    "            sol1 = fsolve(euler_eq,kmin,args1)\n",
    "            Pknew[ik,0] = sol1\n",
    "            \n",
    "            args2 = (1, 0.9, k, interp1, interp2)\n",
    "            sol2 = fsolve(euler_eq,kmin,args2)\n",
    "            Pknew[ik,1] = sol2\n",
    "\n",
    "        diff = np.max(abs(Pk - Pknew))\n",
    "    \n",
    "    print(\"Iteration = \",it,\",  diff = \",diff)\n",
    "    \n",
    "    # figures (f1 : value function, f2 : policy function)\n",
    "    plt.plot(kgrid,Pk)\n",
    "    plt.legend([\"z=1\",\"z=2\"])\n",
    "    plt.title('policy function')\n",
    "    plt.show()\n",
    "    \n",
    "    return Pk, kgrid"
   ]
  },
  {
   "cell_type": "code",
   "execution_count": 206,
   "metadata": {},
   "outputs": [
    {
     "name": "stdout",
     "output_type": "stream",
     "text": [
      "Iteration =  21 ,  diff =  5.623985961378253e-07\n"
     ]
    },
    {
     "name": "stderr",
     "output_type": "stream",
     "text": [
      "/home/dohan/anaconda3/lib/python3.7/site-packages/ipykernel_launcher.py:5: RuntimeWarning: invalid value encountered in power\n",
      "  \"\"\"\n",
      "/home/dohan/anaconda3/lib/python3.7/site-packages/ipykernel_launcher.py:11: RuntimeWarning: invalid value encountered in power\n",
      "  # This is added back by InteractiveShellApp.init_path()\n",
      "/home/dohan/anaconda3/lib/python3.7/site-packages/ipykernel_launcher.py:8: RuntimeWarning: invalid value encountered in power\n",
      "  \n",
      "/home/dohan/anaconda3/lib/python3.7/site-packages/ipykernel_launcher.py:14: RuntimeWarning: invalid value encountered in power\n",
      "  \n"
     ]
    },
    {
     "data": {
      "image/png": "[encoded data removed]",
      "text/plain": [
       "<Figure size 432x288 with 1 Axes>"
      ]
     },
     "metadata": {
      "needs_background": "light"
     },
     "output_type": "display_data"
    }
   ],
   "source": [
    "maxiter, tol, nd, kmin, kmax = 100, 1e-6, 5, 0.2, 2.0\n",
    "Pk, kgrid = ramsey_chebyshev(maxiter,tol,nd,kmin,kmax)"
   ]
  },
  {
   "cell_type": "markdown",
   "metadata": {},
   "source": [
    "### b. tensor products"
   ]
  },
  {
   "cell_type": "code",
   "execution_count": null,
   "metadata": {},
   "outputs": [],
   "source": []
  }
 ],
 "metadata": {
  "kernelspec": {
   "display_name": "Python 3",
   "language": "python",
   "name": "python3"
  },
  "language_info": {
   "codemirror_mode": {
    "name": "ipython",
    "version": 3
   },
   "file_extension": ".py",
   "mimetype": "text/x-python",
   "name": "python",
   "nbconvert_exporter": "python",
   "pygments_lexer": "ipython3",
   "version": "3.7.3"
  }
 },
 "nbformat": 4,
 "nbformat_minor": 2
}
