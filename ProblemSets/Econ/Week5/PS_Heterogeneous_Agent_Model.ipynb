{
 "cells": [
  {
   "cell_type": "code",
   "execution_count": 1,
   "metadata": {},
   "outputs": [],
   "source": [
    "'''\n",
    "=========================================================================\n",
    "OSE bootcamp 2019\n",
    "Week 5, [ Tony Smith's lecture ]\n",
    "Problem Set: Heterogeneous Agent Models\n",
    "[ Based on Aiyagari(1994) ]\n",
    "\n",
    "By Dohan Kim (UPenn), 2019 August\n",
    "=========================================================================\n",
    "'''\n",
    "\n",
    "import numpy as np\n",
    "import sympy as sy\n",
    "from matplotlib import pyplot as plt\n",
    "from matplotlib import rc\n",
    "from mpl_toolkits import mplot3d\n",
    "import quantecon as qe\n",
    "from quantecon.optimize.scalar_maximization import brent_max\n",
    "from scipy.optimize import brentq, newton\n",
    "from scipy.optimize import fsolve\n",
    "from numba import njit\n",
    "import time\n",
    "from numpy import linalg as LA\n",
    "import numpy.matlib\n",
    "from bisect import bisect\n",
    "import sys"
   ]
  },
  {
   "cell_type": "code",
   "execution_count": 2,
   "metadata": {},
   "outputs": [],
   "source": [
    "# Parameters\n",
    "β = 0.96   # discount factor\n",
    "δ = 0.06   # capital depreciation rate\n",
    "α = 0.36   # capital share parameter of the Cobb-Douglas production function\n",
    "γ = 1      # utiliby function : u(c) = (c^(1-γ) - 1) / (1 - γ)\n",
    "\n",
    "params = (β, δ, α, γ)\n",
    "\n",
    "# given values  \n",
    "p22 = 0.9   # a probability of remaining employed next period conditional on being employed today\n",
    "ubar = 0.1  # steady state unemployed rate\n",
    "nk = 200    # a number of points for capital\n",
    "nϵ = 2      # a number of points for idiosyncratic shock"
   ]
  },
  {
   "cell_type": "code",
   "execution_count": 3,
   "metadata": {},
   "outputs": [
    {
     "name": "stdout",
     "output_type": "stream",
     "text": [
      "The transition matrix = \n",
      "[[0.1 0.9]\n",
      " [0.1 0.9]]\n"
     ]
    }
   ],
   "source": [
    "def transition_prob(p22, ubar):\n",
    "    '''\n",
    "    This function computes the transition probabilities\n",
    "    (state 0: unemployed, state 1: employed)\n",
    "    \n",
    "    [ Parameters ]\n",
    "        p22  : a prabability of remaning employed next period conditional on beging employed today\n",
    "        ubar : steady state unempolyed rate\n",
    "    \n",
    "    [ Return ]\n",
    "        P : the transition matrix (nϵ) by (nϵ) [p11, p12; p21 p22]\n",
    "    '''\n",
    "    \n",
    "    p11 = (2-p22) + (p22-1)/ubar\n",
    "    P = np.zeros((2,2))\n",
    "    P[0,0] = p11\n",
    "    P[0,1] = 1-p11\n",
    "    P[1,0] = 1-p22\n",
    "    P[1,1] = p22\n",
    "\n",
    "    return P\n",
    "\n",
    "P = transition_prob(0.9, 0.1)\n",
    "print(\"The transition matrix = \")\n",
    "print(np.round(P,2))"
   ]
  },
  {
   "cell_type": "code",
   "execution_count": 4,
   "metadata": {},
   "outputs": [],
   "source": [
    "#--------------------------- \n",
    "# Value Function Iteration\n",
    "#---------------------------\n",
    "\n",
    "def VFI(Kbar, u, kgrid, ϵgrid, P, params, Max_Iter=1000, tol=1e-5, seeIter=50):\n",
    "    '''\n",
    "    This function implements the value function iteration given Kbar.\n",
    "\n",
    "    [ Parameters ]\n",
    "        Kbar     : aggregate steady state capital\n",
    "        u        : steady state unemployment rate\n",
    "        kgrid    : capital grid\n",
    "        ϵgrid    : idiosyncratic shock grid\n",
    "        P        : transition matrix\n",
    "        params   : β, δ, α, γ\n",
    "        Max_Iter : the maximum number of iteration (default = 1000)\n",
    "        tol      : a tolerance level (default = 1e-5)\n",
    "        seeIter  : show the difference per \"seeIter\" iterations ('0' : do not show)\n",
    "\n",
    "    [ Return ]\n",
    "        mV    : the value function V(k,ϵ)\n",
    "        mPk   : the optimal capital choice k(k,ϵ)\n",
    "    '''\n",
    "    #--------\n",
    "    # Set up\n",
    "    #--------\n",
    "    \n",
    "    β, δ, α, γ = params\n",
    "    nk = len(kgrid)\n",
    "    nϵ = len(ϵgrid)\n",
    "    \n",
    "    # required matrices and vectors\n",
    "    mV = np.zeros((nk, nϵ))   # save values for value function : V(k,ϵ)\n",
    "    mPk = np.zeros_like(mV)   # save optimal capital choice : k(k,ϵ)\n",
    "    \n",
    "    # compute prices given Kbar\n",
    "    rK = α*(Kbar**(α-1)) * ((1-u)**(1-α))\n",
    "    wK = (1-α) * (Kbar**α) * ((1-u)**(-α))\n",
    "    \n",
    "    @njit\n",
    "    def compute_value(kp, k, iϵ, mV):\n",
    "        '''\n",
    "        This function computes values for the value function\n",
    "\n",
    "        [ Parameters ]\n",
    "            kp : capital choice for tomorrow\n",
    "            k  : today's capital stock\n",
    "            iϵ : the current shock index (employment status)\n",
    "            mV : the value function v(k,ϵ)\n",
    "        \n",
    "        [ Return ]\n",
    "            value : the value for value function\n",
    "        '''\n",
    "        \n",
    "        eV = np.zeros(nϵ)\n",
    "        \n",
    "        for iϵp in range(nϵ):\n",
    "            if kp <= kgrid[nk-1]:\n",
    "                eV[iϵp] = np.interp(kp, kgrid, mV[:,iϵp])\n",
    "            else:\n",
    "                eV[iϵp] = mV[nk-2,iϵp] + (kp-kgrid[nk-2])/(kgrid[nk-1]-kgrid[nk-2]) \\\n",
    "                    * (mV[nk-1,iϵp]-mV[nk-2,iϵp])\n",
    "            \n",
    "        cons = rK*k + wK*ϵgrid[iϵ] + (1-δ)*k - kp\n",
    "        \n",
    "        if cons <= 0:\n",
    "            value = -1e+10\n",
    "        else:\n",
    "            if γ == 1:\n",
    "                value = np.log(cons) + β*np.dot(eV, P[iϵ,:])\n",
    "            else:\n",
    "                value = ((cons**(1-γ) - 1) / (1 - γ)) + β*np.dot(eV, P[iϵ,:])\n",
    "            \n",
    "        return value\n",
    "    \n",
    "    @njit\n",
    "    def BellmanOperator(mV):\n",
    "        '''\n",
    "        The Bellman operator\n",
    "        \n",
    "        [ Parameter ]\n",
    "            mV  : the current value function V(k,ϵ)\n",
    "            \n",
    "        [ Returns ]\n",
    "            mVnew : the new value function V(k,ϵ)\n",
    "            mPk   : the optimal capital choice k(k,ϵ)\n",
    "        '''\n",
    "\n",
    "        mVnew = np.zeros_like(mV) # mVnew = T(mV)\n",
    "        mPk = np.zeros_like(mV)   # save optimal capital choice k(k,ϵ)\n",
    "        \n",
    "        for ik in range(nk):\n",
    "            k = kgrid[ik]       \n",
    "            for iϵ in range(nϵ):\n",
    "                ϵ = ϵgrid[iϵ]\n",
    "                kmax = rK*k + wK*ϵ + (1-δ)*k\n",
    "                result = brent_max(compute_value, 1e-10, kmax, args=(k, iϵ, mV))\n",
    "                mVnew[ik,iϵ] = result[1]\n",
    "                mPk[ik,iϵ] = result[0]\n",
    "                \n",
    "        return (mVnew, mPk)\n",
    "    \n",
    "    #------------\n",
    "    # Iteration\n",
    "    #------------\n",
    "    \n",
    "    diff = 10\n",
    "    it = 0\n",
    "\n",
    "    while (diff > tol) and (it < Max_Iter):\n",
    "        \n",
    "        it += 1\n",
    "        mVnew, mPk = BellmanOperator(mV)\n",
    "        \n",
    "        diff = np.max(np.abs(mV - mVnew))\n",
    "        mV = mVnew\n",
    "        \n",
    "        if seeIter != 0:\n",
    "            if (it % seeIter == 0) or (it == 1):\n",
    "                print(\"   Iteration: %4d,   the maximum difference: %8.6f\" % (it, diff))\n",
    "        \n",
    "    if seeIter != 0:\n",
    "        if it % seeIter != 0:\n",
    "            print(\"   Iteration: %4d,   the maximum difference: %6.5ef\" % (it, diff))\n",
    "\n",
    "    return (mV, mPk) "
   ]
  },
  {
   "cell_type": "code",
   "execution_count": 5,
   "metadata": {},
   "outputs": [],
   "source": [
    "def transition_matrix(kgrid, ϵgrid, P, mPk):\n",
    "    '''\n",
    "    This function computes the transition matrix\n",
    "        \n",
    "    [ Parameters ]\n",
    "        kgrid : capital grid\n",
    "        ϵgrid : idiosyncratic shock grid\n",
    "        P     : the Markov chain for ϵ\n",
    "        mPk   : the optimal capital choice k(k,ϵ)\n",
    "        \n",
    "    [ Returns ]\n",
    "        mT : the transition matrix (nk*nϵ) by (nk*nϵ)\n",
    "    '''\n",
    "    \n",
    "    nk = len(kgrid)\n",
    "    nϵ = len(ϵgrid)\n",
    "    \n",
    "    # construct the decision rule for capital (k)\n",
    "    mT = np.zeros((nk*nϵ, nk*nϵ))\n",
    "   \n",
    "    for ik in range(nk):\n",
    "        for iϵ in range(nϵ):\n",
    "            kp = mPk[ik,iϵ]\n",
    "            index = np.searchsorted(kgrid, kp)\n",
    "            if index >= nk:\n",
    "                mT[ik*nϵ+iϵ, (nk-1)*nϵ:nk*nϵ] += 1\n",
    "            elif index == 0:\n",
    "                mT[ik*nϵ+iϵ, :nϵ] += 1\n",
    "            else:\n",
    "                prob = (kp - kgrid[index-1]) / (kgrid[index] - kgrid[index-1])\n",
    "                mT[ik*nϵ+iϵ, index*nϵ:(index+1)*nϵ] += prob\n",
    "                mT[ik*nϵ+iϵ, (index-1)*nϵ:index*nϵ] += 1 - prob\n",
    "                \n",
    "    mT = np.multiply(mT, np.matlib.repmat(P, nk, nk))\n",
    "    \n",
    "    # check if the sum of probability for each row is 1\n",
    "    for i in range(nk*nϵ):\n",
    "        if np.abs(np.sum(mT[i,:]) - 1.0) > 1e-10:\n",
    "            print(\"The sum of probability is not 1.0 but %4.2f for %d row\" % (np.sum(mT[i,:]),i))\n",
    "    \n",
    "    return mT"
   ]
  },
  {
   "cell_type": "code",
   "execution_count": 6,
   "metadata": {},
   "outputs": [],
   "source": [
    "def StationaryDist(T):\n",
    "    ''' \n",
    "    This function computes the stationary distribution g(k,ϵ)\n",
    "    g = gT where x is the answer\n",
    "    g - gT = 0\n",
    "    g( I - T ) = 0 and sum(g) = 1\n",
    "    \n",
    "    [ Parameter ]\n",
    "        T : the Markov chain\n",
    "        \n",
    "    [ Return ]\n",
    "        g : the stationary distribution\n",
    "    '''\n",
    "    \n",
    "    n = T.shape[0]\n",
    "    a = np.eye(n) - T\n",
    "    a = np.vstack((a.T, np.ones(n)))\n",
    "    b = np.matrix([0]*n + [1]).T\n",
    "    dist = np.linalg.lstsq(a, b, rcond=-1)[0]\n",
    "    g = np.squeeze(np.asarray(dist))\n",
    "    \n",
    "    return g"
   ]
  },
  {
   "cell_type": "code",
   "execution_count": 7,
   "metadata": {},
   "outputs": [],
   "source": [
    "def capital_market_clear(Kbar, u, kgrid, ϵgrid, P, params):\n",
    "    '''\n",
    "    This function checks the capital market clearing condition (i.e., Ks = Kd)\n",
    "        \n",
    "    [ Parameters ]\n",
    "        Kbar   : aggregate steady state capital (capital demand, Kd)\n",
    "        u      : steady state unemployment rate\n",
    "        kgrid  : capital grid\n",
    "        ϵgrid  : idiosyncratic shock grid\n",
    "        P      : transition matrix\n",
    "        params : β, δ, α, γ\n",
    "        \n",
    "    [ Returns ]\n",
    "        K - Kbar : capital supply(K=Ks) - capital demand(Kbar=Kd)\n",
    "    '''\n",
    "    \n",
    "    mV, mPk = VFI(Kbar, u, kgrid, ϵgrid, P, params, Max_Iter=1000, tol=1e-5, seeIter=0)\n",
    "    mT = transition_matrix(kgrid, ϵgrid, P, mPk)\n",
    "    g_dist = StationaryDist(mT)\n",
    "    g_dist = np.reshape(g_dist, (nk,nϵ))\n",
    "    K = np.sum(np.multiply(mPk, g_dist))\n",
    "    \n",
    "    return K - Kbar"
   ]
  },
  {
   "cell_type": "code",
   "execution_count": 8,
   "metadata": {},
   "outputs": [
    {
     "name": "stdout",
     "output_type": "stream",
     "text": [
      "K̄* = 6.5608\n",
      "Elapsed = 46.71 seconds\n"
     ]
    }
   ],
   "source": [
    "kgrid = np.linspace(0.001, 40, nk)\n",
    "ϵgrid = np.linspace(0, 1, nϵ)\n",
    "\n",
    "# compute the steady state capital stock Kbar*\n",
    "start = time.time()\n",
    "Kstar = brentq(capital_market_clear, kgrid[0], kgrid[nk-1], args=(ubar, kgrid, ϵgrid, P, params))\n",
    "print(\"%s = %4.4f\" % ('K\\u0304*',Kstar))\n",
    "end = time.time()\n",
    "print(\"Elapsed = %4.2f seconds\" % (end - start))"
   ]
  },
  {
   "cell_type": "code",
   "execution_count": 9,
   "metadata": {},
   "outputs": [
    {
     "name": "stdout",
     "output_type": "stream",
     "text": [
      "   Iteration:    1,   the maximum difference: 6.872549\n",
      "   Iteration:  100,   the maximum difference: 0.007669\n",
      "   Iteration:  200,   the maximum difference: 0.000129\n",
      "   Iteration:  265,   the maximum difference: 9.69932e-06f\n"
     ]
    },
    {
     "data": {
      "text/plain": [
       "Text(0, 0.5, \"k'\")"
      ]
     },
     "execution_count": 9,
     "metadata": {},
     "output_type": "execute_result"
    },
    {
     "data": {
      "image/png": "[encoded data removed]",
      "text/plain": [
       "<Figure size 864x360 with 2 Axes>"
      ]
     },
     "metadata": {
      "needs_background": "light"
     },
     "output_type": "display_data"
    }
   ],
   "source": [
    "mV, mPk = VFI(Kstar, ubar, kgrid, ϵgrid, P, params, Max_Iter=1000, tol=1e-5, seeIter=100)\n",
    "\n",
    "fig1 = plt.figure(figsize = [12, 5])\n",
    "    \n",
    "# Plot the value function V(k,ϵ;Kbar)\n",
    "VF = fig1.add_subplot(1, 2, 1)\n",
    "for iϵ in range(nϵ):\n",
    "    plt.plot(kgrid, mV[:,iϵ])\n",
    "plt.title(\"Value Function: V(k,ϵ;\"r'$\\bar{K}$=%2.2f)' % Kstar)\n",
    "plt.legend(['ϵ = 0', 'ϵ = 1'])\n",
    "plt.xlabel(\"k\")\n",
    "plt.ylabel(\"k'\")\n",
    "\n",
    "# Plot the policy function K(k,ϵ;Kbar)\n",
    "VF = fig1.add_subplot(1, 2, 2)\n",
    "for iϵ in range(nϵ):\n",
    "    plt.plot(kgrid, mPk[:,iϵ], label=(\"ϵ = %d\" % ϵgrid[iϵ]))\n",
    "plt.plot(kgrid, kgrid, ':', color='black', label=\"45 degree line\")\n",
    "plt.title(\"Capital Policy Function: K(k,ϵ;\"r'$\\bar{K}$=%2.2f)' % Kstar)\n",
    "plt.legend()\n",
    "plt.xlabel(\"k\")\n",
    "plt.ylabel(\"k'\")"
   ]
  },
  {
   "cell_type": "code",
   "execution_count": 10,
   "metadata": {},
   "outputs": [
    {
     "data": {
      "image/png": "[encoded data removed]",
      "text/plain": [
       "<Figure size 432x360 with 1 Axes>"
      ]
     },
     "metadata": {
      "needs_background": "light"
     },
     "output_type": "display_data"
    }
   ],
   "source": [
    "mT = transition_matrix(kgrid, ϵgrid, P, mPk)\n",
    "g_dist = StationaryDist(mT)\n",
    "g_dist = np.reshape(g_dist, (nk,nϵ))\n",
    "\n",
    "# Plot the stationary distribution g(k,ϵ;Kbar*)\n",
    "\n",
    "fig2 = plt.figure(figsize = [6, 5])\n",
    "\n",
    "fig2.add_subplot(111)\n",
    "for iϵ in range(nϵ):\n",
    "    plt.plot(kgrid, g_dist[:,iϵ], label=(\"ϵ = %d\" % ϵgrid[iϵ]))\n",
    "plt.title(\"Stationary Distribution (\"r'$\\bar{K}$=%2.2f)' % Kstar)\n",
    "plt.legend()\n",
    "plt.xlabel(\"k\")\n",
    "plt.ylabel(\"density\")\n",
    "plt.show()"
   ]
  },
  {
   "cell_type": "code",
   "execution_count": 11,
   "metadata": {},
   "outputs": [
    {
     "name": "stdout",
     "output_type": "stream",
     "text": [
      "[ the steady state interest rate (r)]\n",
      "\n",
      "in the representative agent model : 10.167  %\n",
      "in the heterogeneous agent model  : 10.096  %\n"
     ]
    }
   ],
   "source": [
    "def compute_rss(K):\n",
    "    rss = α*(K**(α-1)) * ((1-ubar)**(1-α))\n",
    "    return rss\n",
    "\n",
    "Kss_rep = ((1-β*(1-δ)) / (α*β*(1-ubar)**(1-α)))**(1/(α-1))\n",
    "\n",
    "rss_het = compute_rss(Kstar) * 100\n",
    "rss_rep = compute_rss(Kss_rep) * 100\n",
    "\n",
    "print(\"[ the steady state interest rate (r)]\")\n",
    "print(\"\")\n",
    "print(\"in the representative agent model : %4.3f \" % rss_rep, \"%\")\n",
    "print(\"in the heterogeneous agent model  : %4.3f \" % rss_het, \"%\")"
   ]
  },
  {
   "cell_type": "markdown",
   "metadata": {},
   "source": [
    "### End"
   ]
  }
 ],
 "metadata": {
  "@webio": {
   "lastCommId": null,
   "lastKernelId": null
  },
  "kernelspec": {
   "display_name": "Python 3",
   "language": "python",
   "name": "python3"
  },
  "language_info": {
   "codemirror_mode": {
    "name": "ipython",
    "version": 3
   },
   "file_extension": ".py",
   "mimetype": "text/x-python",
   "name": "python",
   "nbconvert_exporter": "python",
   "pygments_lexer": "ipython3",
   "version": "3.7.3"
  }
 },
 "nbformat": 4,
 "nbformat_minor": 2
}
