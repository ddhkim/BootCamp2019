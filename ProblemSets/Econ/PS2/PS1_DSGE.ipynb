{
 "cells": [
  {
   "cell_type": "markdown",
   "metadata": {},
   "source": [
    "# OSE-Summer School 2019\n",
    "## Wk3: ECON DSGE PS1, Kerk Phillips"
   ]
  },
  {
   "cell_type": "code",
   "execution_count": 44,
   "metadata": {},
   "outputs": [],
   "source": [
    "import numpy as np\n",
    "from matplotlib import pyplot as plt\n",
    "from scipy.optimize import fsolve\n",
    "import sys"
   ]
  },
  {
   "cell_type": "markdown",
   "metadata": {},
   "source": [
    "### Exercise 1"
   ]
  },
  {
   "cell_type": "markdown",
   "metadata": {},
   "source": [
    "In the steady state, the euler equation becomes:\n",
    "\n",
    "$$ \\frac{1}{\\bar{K}^{\\alpha}-\\bar{K}} = \\frac{\\alpha\\beta\\bar{K}^{\\alpha-1}}{\\bar{K}^{\\alpha}-\\bar{K}} $$\n",
    "\n",
    "Thus, $\\bar{K} = (\\alpha\\beta)^{\\frac{1}{1-\\alpha}} = A^{\\frac{1}{1-\\alpha}} $ and $ A = \\alpha\\beta $."
   ]
  },
  {
   "cell_type": "markdown",
   "metadata": {},
   "source": [
    "### Exercise 2"
   ]
  },
  {
   "cell_type": "markdown",
   "metadata": {},
   "source": [
    "$$ c_{t}^{-1} = \\beta \\mathbb{E}_{t}\\big[c_{t+1}^{-1}\\big((r_{t+1}-\\delta)(1-\\tau)+1 \\big)\\big] $$"
   ]
  },
  {
   "cell_type": "markdown",
   "metadata": {},
   "source": [
    "$$ a(1-l_{t})^{-1} = c_{t}^{-1}w_{t}(1-\\tau) $$"
   ]
  },
  {
   "cell_type": "markdown",
   "metadata": {},
   "source": [
    "$$ r_{t} = \\alpha e^{z_{t}} k_{t}^{\\alpha-1} l_{t}^{1-\\alpha} $$"
   ]
  },
  {
   "cell_type": "markdown",
   "metadata": {},
   "source": [
    "$$ w_{t} = (1-\\alpha) e^{z_{t}} k_{t}^{\\alpha} l_{t}^{-\\alpha} $$"
   ]
  },
  {
   "cell_type": "markdown",
   "metadata": {},
   "source": [
    "$$ \\tau(w_{t}l_{t} + (r_{t}-\\delta)k_{t}) = T_{t} $$"
   ]
  },
  {
   "cell_type": "markdown",
   "metadata": {},
   "source": [
    "$$ c_{t} = (1-\\tau) \\big(w_{t}l_{t} + (r_{t}-\\delta)k_{t} \\big) + k_{t} + T_{t} - k_{t+1} $$"
   ]
  },
  {
   "cell_type": "markdown",
   "metadata": {},
   "source": [
    "### Exercise 3"
   ]
  },
  {
   "cell_type": "markdown",
   "metadata": {},
   "source": [
    "$$ c_{t}^{-\\gamma} = \\beta \\mathbb{E}_{t}\\big[c_{t+1}^{-\\gamma}\\big((r_{t+1}-\\delta)(1-\\tau)+1 \\big)\\big] $$\n",
    "\n",
    "$$ a(1-l_{t})^{-1} = c_{t}^{-\\gamma}w_{t}(1-\\tau) $$\n",
    "\n",
    "$$ r_{t} = \\alpha e^{z_{t}} k_{t}^{\\alpha-1} l_{t}^{1-\\alpha} $$\n",
    "\n",
    "$$ w_{t} = (1-\\alpha) e^{z_{t}} k_{t}^{\\alpha} l_{t}^{-\\alpha} $$\n",
    "\n",
    "$$ \\tau(w_{t}l_{t} + (r_{t}-\\delta)k_{t}) = T_{t} $$\n",
    "\n",
    "$$ c_{t} = (1-\\tau) \\big(w_{t}l_{t} + (r_{t}-\\delta)k_{t} \\big) + k_{t} + T_{t} - k_{t+1} $$"
   ]
  },
  {
   "cell_type": "markdown",
   "metadata": {},
   "source": [
    "### Exercise 4"
   ]
  },
  {
   "cell_type": "markdown",
   "metadata": {},
   "source": [
    "$$ c_{t}^{-\\gamma} = \\beta \\mathbb{E}_{t}\\big[c_{t+1}^{-\\gamma}\\big((r_{t+1}-\\delta)(1-\\tau)+1 \\big)\\big] $$\n",
    "\n",
    "$$ a(1-l_{t})^{-\\xi} = c_{t}^{-\\gamma}w_{t}(1-\\tau) $$\n",
    "\n",
    "$$ r_{t} = \\alpha e^{z_{t}} k_{t}^{\\eta-1} \\big[\\alpha k_{t}^{\\eta}+(1-\\alpha)l_{t}^{\\eta} \\big]^{\\frac{1-\\eta}{\\eta}} $$\n",
    "\n",
    "$$ w_{t} = (1-\\alpha) e^{z_{t}} l_{t}^{\\eta-1} \\big[\\alpha k_{t}^{\\eta}+(1-\\alpha)l_{t}^{\\eta} \\big]^{\\frac{1-\\eta}{\\eta}} $$\n",
    "\n",
    "$$ \\tau(w_{t}l_{t} + (r_{t}-\\delta)k_{t}) = T_{t} $$\n",
    "\n",
    "$$ c_{t} = (1-\\tau) \\big(w_{t}l_{t} + (r_{t}-\\delta)k_{t} \\big) + k_{t} + T_{t} - k_{t+1} $$"
   ]
  },
  {
   "cell_type": "markdown",
   "metadata": {},
   "source": [
    "### Exercise 5"
   ]
  },
  {
   "cell_type": "markdown",
   "metadata": {},
   "source": [
    "$$ c_{t}^{-\\gamma} = \\beta \\mathbb{E}_{t}\\big[c_{t+1}^{-\\gamma}\\big((r_{t+1}-\\delta)(1-\\tau)+1 \\big)\\big] $$\n",
    "\n",
    "$$ r_{t} = \\alpha e^{z_{t}} k_{t}^{\\alpha-1} $$\n",
    "\n",
    "$$ w_{t} = (1-\\alpha) e^{z_{t}} k_{t}^{\\alpha} $$\n",
    "\n",
    "$$ \\tau(w_{t} + (r_{t}-\\delta)k_{t}) = T_{t} $$\n",
    "\n",
    "$$ c_{t} = (1-\\tau) \\big(w_{t} + (r_{t}-\\delta)k_{t} \\big) + k_{t} + T_{t} - k_{t+1} $$"
   ]
  },
  {
   "cell_type": "markdown",
   "metadata": {},
   "source": [
    "In the steady state,\n",
    "\n",
    "$$ 1 = \\beta [ (\\bar{r}-\\delta)(1-\\tau)+1 ] $$\n",
    "\n",
    "$$ \\bar{r} = \\alpha \\bar{k}^{\\alpha-1} $$\n",
    "\n",
    "$$ \\bar{w} = (1-\\alpha) \\bar{k}^{\\alpha} $$\n",
    "\n",
    "$$ \\tau(\\bar{w} + (\\bar{r}-\\delta)\\bar{k}) = \\bar{T} $$\n",
    "\n",
    "$$ \\bar{c} = (1-\\tau) \\big(\\bar{w} + (\\bar{r}-\\delta)\\bar{k} \\big) + \\bar{T} $$"
   ]
  },
  {
   "cell_type": "code",
   "execution_count": 1,
   "metadata": {},
   "outputs": [],
   "source": [
    "import numpy as np\n",
    "import sympy as sy\n",
    "from matplotlib import pyplot as plt\n",
    "from mpl_toolkits import mplot3d\n",
    "from scipy.optimize import fsolve\n",
    "import sys"
   ]
  },
  {
   "cell_type": "code",
   "execution_count": 2,
   "metadata": {},
   "outputs": [],
   "source": [
    "# parameters\n",
    "γ = 2.50\n",
    "α = 0.40\n",
    "β = 0.98\n",
    "δ = 0.10\n",
    "τ = 0.05"
   ]
  },
  {
   "cell_type": "code",
   "execution_count": 3,
   "metadata": {},
   "outputs": [],
   "source": [
    "# anlaytical solution\n",
    "rss = (1-β)/(β*(1-τ))+δ\n",
    "kss = ((1/α)*rss)**(1/(α-1))\n",
    "wss = (1-α)*kss**α\n",
    "css = wss+(rss-δ)*kss\n",
    "Tss = τ*(wss+(rss-δ)*kss)\n",
    "Oss = kss**α\n",
    "iss = δ*kss"
   ]
  },
  {
   "cell_type": "code",
   "execution_count": 4,
   "metadata": {},
   "outputs": [],
   "source": [
    "# numerical solution\n",
    "def steady_state_ex5(var):\n",
    "    \n",
    "    r,k,w,c,T = var\n",
    "    \n",
    "    eq1 = 1 - β*((r-δ)*(1-τ) + 1)\n",
    "    eq2 = r - α*k**(α-1)\n",
    "    eq3 = w - (1-α)*k**α\n",
    "    eq4 = c - w - (r-δ)*k\n",
    "    eq5 = T - τ*(w + (r-δ)*k)\n",
    "\n",
    "    return (eq1, eq2, eq3, eq4, eq5)\n",
    "\n",
    "rssN, kssN, wssN, cssN, TssN = fsolve(steady_state_ex5, (0.1, 1, 1, 1, 0.1))\n",
    "OssN = kssN**α\n",
    "issN = δ*kssN"
   ]
  },
  {
   "cell_type": "code",
   "execution_count": 5,
   "metadata": {},
   "outputs": [
    {
     "name": "stdout",
     "output_type": "stream",
     "text": [
      "[Steady state values (algebraic solution)]\n",
      "\n",
      "interest rate(r): 0.1215\n",
      "capital stock(k): 7.2875\n",
      "wage(w)         : 1.328\n",
      "consumption(c)  : 1.4845\n",
      "tax revenue(T)  : 0.0742\n",
      "output(O)       : 2.2133\n",
      "investment(i)   : 0.7287\n",
      "\n",
      "[Steady state values (numerical solution)]\n",
      "\n",
      "interest rate(r): 0.1215\n",
      "capital stock(k): 7.2875\n",
      "wage(w)         : 1.328\n",
      "consumption(c)  : 1.4845\n",
      "tax revenue(T)  : 0.0742\n",
      "output(O)       : 2.2133\n",
      "investment(i)   : 0.7287\n"
     ]
    }
   ],
   "source": [
    "print(\"[Steady state values (algebraic solution)]\")\n",
    "print(\"\")\n",
    "print('interest rate(r):',round(rss,4))\n",
    "print('capital stock(k):',round(kss,4))\n",
    "print('wage(w)         :',round(wss,4))\n",
    "print('consumption(c)  :',round(css,4))\n",
    "print('tax revenue(T)  :',round(Tss,4))\n",
    "print('output(O)       :',round(Oss,4))\n",
    "print('investment(i)   :',round(iss,4))\n",
    "print(\"\")\n",
    "      \n",
    "print(\"[Steady state values (numerical solution)]\")\n",
    "print(\"\")\n",
    "print('interest rate(r):',round(rssN,4))\n",
    "print('capital stock(k):',round(kssN,4))\n",
    "print('wage(w)         :',round(wssN,4))\n",
    "print('consumption(c)  :',round(cssN,4))\n",
    "print('tax revenue(T)  :',round(TssN,4))\n",
    "print('output(O)       :',round(OssN,4))\n",
    "print('investment(i)   :',round(issN,4))"
   ]
  },
  {
   "cell_type": "markdown",
   "metadata": {},
   "source": [
    "### Exercise 6"
   ]
  },
  {
   "cell_type": "markdown",
   "metadata": {},
   "source": [
    "$$ c_{t}^{-\\gamma} = \\beta \\mathbb{E}_{t}\\big[c_{t+1}^{-\\gamma}\\big((r_{t+1}-\\delta)(1-\\tau)+1 \\big)\\big] $$\n",
    "\n",
    "$$ a(1-l_{t})^{-\\xi} = c_{t}^{-\\gamma}w_{t}(1-\\tau) $$\n",
    "\n",
    "$$ r_{t} = \\alpha k_{t}^{\\alpha-1} (l_{t}e^{z_{t}})^{1-\\alpha} $$\n",
    "\n",
    "$$ w_{t} = (1-\\alpha) k_{t}^{\\alpha} l_{t}^{-\\alpha} e^{z_{t}(1-\\alpha)} $$\n",
    "\n",
    "$$ \\tau(w_{t}l_{t} + (r_{t}-\\delta)k_{t}) = T_{t} $$\n",
    "\n",
    "$$ c_{t} = (1-\\tau) \\big(w_{t}l_{t} + (r_{t}-\\delta)k_{t} \\big) + k_{t} + T_{t} - k_{t+1} $$"
   ]
  },
  {
   "cell_type": "markdown",
   "metadata": {},
   "source": [
    "In the steady state,\n",
    "\n",
    "$$ 1 = \\beta [ (\\bar{r}-\\delta)(1-\\tau)+1 ] $$\n",
    "\n",
    "$$ a(1-\\bar{l})^{-\\xi} = (\\bar{c})^{-\\gamma} \\bar{w}(1-\\tau) $$\n",
    "\n",
    "$$ \\bar{r} = \\alpha (\\bar{k})^{\\alpha-1} (\\bar{l})^{1-\\alpha} $$\n",
    "\n",
    "$$ \\bar{w} = (1-\\alpha) (\\bar{k})^{\\alpha} (\\bar{l})^{-\\alpha} $$\n",
    "\n",
    "$$ \\tau(\\bar{w}\\bar{l} + (\\bar{r}-\\delta)\\bar{k}) = \\bar{T} $$\n",
    "\n",
    "$$ \\bar{c} = (1-\\tau) \\big(\\bar{w}\\bar{l} + (\\bar{r}-\\delta)\\bar{k} \\big) + \\bar{T} $$"
   ]
  },
  {
   "cell_type": "code",
   "execution_count": 6,
   "metadata": {},
   "outputs": [],
   "source": [
    "# parameters\n",
    "γ = 2.50\n",
    "ξ = 1.50\n",
    "α = 0.40\n",
    "β = 0.98\n",
    "δ = 0.10\n",
    "τ = 0.05\n",
    "a = 0.50"
   ]
  },
  {
   "cell_type": "code",
   "execution_count": 7,
   "metadata": {},
   "outputs": [
    {
     "name": "stdout",
     "output_type": "stream",
     "text": [
      "[Steady state values]\n",
      "\n",
      "interest rate(r): 0.1215\n",
      "capital stock(k): 4.2252\n",
      "labor(l)        : 0.5798\n",
      "wage(w)         : 1.328\n",
      "consumption(c)  : 0.8607\n",
      "tax revenue(T)  : 0.043\n",
      "output(O)       : 1.2832\n",
      "investment(i)   : 0.4225\n",
      "\n"
     ]
    }
   ],
   "source": [
    "# numerical solution\n",
    "def steady_state_ex6(var):\n",
    "    \n",
    "    r,k,l,w,c,T = var\n",
    "    \n",
    "    eq1 = 1 - β * ((r-δ)*(1-τ) + 1)\n",
    "    eq2 = a * ((1-l)**(-ξ)) - (c**(-γ))*w*(1-τ)\n",
    "    eq3 = r - α * (k**(α-1)) * (l**(1-α))\n",
    "    eq4 = w - (1-α) * (k**α) * (l**(-α))\n",
    "    eq5 = T - τ * (w*l + (r-δ)*k)\n",
    "    eq6 = c - (1-τ) * (w*l + (r-δ)*k) - T\n",
    "\n",
    "    return (eq1, eq2, eq3, eq4, eq5, eq6)\n",
    "\n",
    "rss, kss, lss, wss, css, Tss = fsolve(steady_state_ex6, (0.2, 1, 0.5, 1, 1, 0.1))\n",
    "Oss = kss**α * lss**(1-α)\n",
    "iss = δ*kss\n",
    "\n",
    "print(\"[Steady state values]\")\n",
    "print(\"\")\n",
    "print('interest rate(r):',round(rss,4))\n",
    "print('capital stock(k):',round(kss,4))\n",
    "print('labor(l)        :',round(lss,4))\n",
    "print('wage(w)         :',round(wss,4))\n",
    "print('consumption(c)  :',round(css,4))\n",
    "print('tax revenue(T)  :',round(Tss,4))\n",
    "print('output(O)       :',round(Oss,4))\n",
    "print('investment(i)   :',round(iss,4))\n",
    "print(\"\")"
   ]
  },
  {
   "cell_type": "markdown",
   "metadata": {},
   "source": [
    "### Exercise 7"
   ]
  },
  {
   "cell_type": "code",
   "execution_count": 8,
   "metadata": {},
   "outputs": [],
   "source": [
    "def steady_state_ex7(var,*args):\n",
    "    \n",
    "    r,k,l,w,c,T = var\n",
    "    α,β,γ,δ,ξ,τ,a,z = args\n",
    "           \n",
    "    eq1 = 1 - β * ((r-δ)*(1-τ) + 1)\n",
    "    eq2 = a * ((1-l)**(-ξ)) - (c**(-γ))*w*(1-τ)\n",
    "    eq3 = r - α * (k**(α-1)) * ((l*np.exp(z))**(1-α))\n",
    "    eq4 = w - (1-α) * (k**α) * (l**(-α)) * np.exp(z*(1-α))\n",
    "    eq5 = T - τ * (w*l + (r-δ)*k)\n",
    "    eq6 = c - (1-τ) * (w*l + (r-δ)*k) - T\n",
    "\n",
    "    return (eq1, eq2, eq3, eq4, eq5, eq6)\n",
    "\n",
    "\n",
    "def compute_ss(params):\n",
    "    \n",
    "    α,β,γ,δ,ξ,τ,a,zss = params\n",
    "    init_guess = [0.2, 1, 0.5, 1, 1, 0.2]\n",
    "    \n",
    "    # compute the steady state given parameters\n",
    "    rss, kss, lss, wss, css, Tss = fsolve(steady_state_ex7, init_guess, params)\n",
    "    \n",
    "    # compute output(Oss) and investment(iss)\n",
    "    Oss = kss**α * (lss*np.exp(zss))**(1-α)\n",
    "    iss = δ*kss\n",
    "    \n",
    "    return (rss, kss, lss, wss, css, Tss, Oss, iss)"
   ]
  },
  {
   "cell_type": "code",
   "execution_count": 9,
   "metadata": {},
   "outputs": [],
   "source": [
    "# initial parameters\n",
    "α, β, γ, δ, ξ, τ, a, zss = 0.4, 0.98, 2.5, 0.1, 1.5, 0.05, 0.5, 0\n",
    "params = (α,β,γ,δ,ξ,τ,a,zss)"
   ]
  },
  {
   "cell_type": "code",
   "execution_count": 10,
   "metadata": {},
   "outputs": [
    {
     "name": "stdout",
     "output_type": "stream",
     "text": [
      "[Initial Steady state values]\n",
      "\n",
      "interest rate(r): 0.1215\n",
      "capital stock(k): 4.2252\n",
      "labor(l)        : 0.5798\n",
      "wage(w)         : 1.328\n",
      "consumption(c)  : 0.8607\n",
      "tax revenue(T)  : 0.043\n",
      "output(O)       : 1.2832\n",
      "investment(i)   : 0.4225\n",
      "\n"
     ]
    }
   ],
   "source": [
    "# check the initial steady state values\n",
    "rss, kss, lss, wss, css, Tss, Oss, iss = compute_ss(params)\n",
    "\n",
    "print(\"[Initial Steady state values]\")\n",
    "print(\"\")\n",
    "print('interest rate(r):',round(rss,4))\n",
    "print('capital stock(k):',round(kss,4))\n",
    "print('labor(l)        :',round(lss,4))\n",
    "print('wage(w)         :',round(wss,4))\n",
    "print('consumption(c)  :',round(css,4))\n",
    "print('tax revenue(T)  :',round(Tss,4))\n",
    "print('output(O)       :',round(Oss,4))\n",
    "print('investment(i)   :',round(iss,4))\n",
    "print(\"\")"
   ]
  },
  {
   "cell_type": "code",
   "execution_count": 11,
   "metadata": {},
   "outputs": [
    {
     "name": "stdout",
     "output_type": "stream",
     "text": [
      "(the derivative of Y w.r.t α)\n",
      "[dr/dα, dk/dα, dl/dα, dw/dα, dc/dα, dT/dα, dO/dα, di/dα] = \n",
      "[ 0.    25.985 -0.769  4.396  2.085  0.104  4.684  2.598]\n",
      "\n",
      "(the derivative of Y w.r.t β)\n",
      "[dr/dβ, dk/dβ, dl/dβ, dw/dβ, dc/dβ, dT/dβ, dO/dβ, di/dβ] = \n",
      "[-1.096 65.431  0.26   7.987  1.751  0.088  8.294  6.543]\n",
      "\n",
      "(the derivative of Y w.r.t γ)\n",
      "[dr/dγ, dk/dγ, dl/dγ, dw/dγ, dc/dγ, dT/dγ, dO/dγ, di/dγ] = \n",
      "[ 0.     0.139  0.019 -0.     0.028  0.001  0.042  0.014]\n",
      "\n",
      "(the derivative of Y w.r.t δ)\n",
      "[dr/dδ, dk/dδ, dl/dδ, dw/dδ, dc/dδ, dT/dδ, dO/dδ, di/dδ] = \n",
      "[  1.    -48.35    1.32   -7.288  -3.511  -0.176  -4.121  -0.61 ]\n",
      "\n",
      "(the derivative of Y w.r.t ξ)\n",
      "[dr/dξ, dk/dξ, dl/dξ, dw/dξ, dc/dξ, dT/dξ, dO/dξ, di/dξ] = \n",
      "[  1.    -48.35    1.32   -7.288  -3.511  -0.176  -4.121  -0.61 ]\n",
      "\n",
      "(the derivative of Y w.r.t τ)\n",
      "[dr/dτ, dk/dτ, dl/dτ, dw/dτ, dc/dτ, dT/dτ, dO/dτ, di/dτ] = \n",
      "[ 0.023 -2.323 -0.139 -0.165 -0.234  0.849 -0.467 -0.232]\n",
      "\n",
      "(the derivative of Y w.r.t a)\n",
      "[dr/da, dk/da, dl/da, dw/da, dc/da, dT/da, dO/da, di/da] = \n",
      "[ 0.    -1.849 -0.254 -0.    -0.377 -0.019 -0.562 -0.185]\n",
      "\n",
      "(the derivative of Y w.r.t z)\n",
      "[dr/dz, dk/dz, dl/dz, dw/dz, dc/dz, dT/dz, dO/dz, di/dz] = \n",
      "[-0.     2.838 -0.19   1.328  0.578  0.029  0.862  0.284]\n",
      "\n"
     ]
    }
   ],
   "source": [
    "# compute derivatives using numerical differentiation\n",
    "init_ss = [rss, kss, lss, wss, css, Tss, Oss, iss]\n",
    "ϵ = 0.0001\n",
    "Etuple = (0,) * (len(init_ss)-1) + (ϵ,)*1 + (0,) * (len(init_ss)-1)\n",
    "ay_ax = np.zeros((len(params),len(init_ss)))\n",
    "\n",
    "for ix in range(len(params)):\n",
    "    \n",
    "    E = Etuple[len(params)-1-ix : len(Etuple)-ix]\n",
    "    params_up = tuple(np.add(params, E))\n",
    "    params_down = tuple(np.subtract(params, E))\n",
    "    \n",
    "    r, k, l, w, c, T, O, i = compute_ss(params_up)\n",
    "    ss_up = [r, k, l, w, c, T, O, i]\n",
    "    \n",
    "    r, k, l, w, c, T, O, i = compute_ss(params_down)\n",
    "    ss_down = [r, k, l, w, c, T, O, i]\n",
    "    \n",
    "    for iy in range(len(init_ss)):\n",
    "        ay_ax[ix,iy] = (ss_up[iy] - ss_down[iy]) / (2*ϵ)\n",
    "    \n",
    "\n",
    "print(\"(the derivative of Y w.r.t α)\")\n",
    "print(\"[dr/dα, dk/dα, dl/dα, dw/dα, dc/dα, dT/dα, dO/dα, di/dα] = \")\n",
    "print(np.round(ay_ax[0,:],3))\n",
    "print(\"\")\n",
    "\n",
    "print(\"(the derivative of Y w.r.t β)\")\n",
    "print(\"[dr/dβ, dk/dβ, dl/dβ, dw/dβ, dc/dβ, dT/dβ, dO/dβ, di/dβ] = \")\n",
    "print(np.round(ay_ax[1,:],3))\n",
    "print(\"\")\n",
    "\n",
    "print(\"(the derivative of Y w.r.t γ)\")\n",
    "print(\"[dr/dγ, dk/dγ, dl/dγ, dw/dγ, dc/dγ, dT/dγ, dO/dγ, di/dγ] = \")\n",
    "print(np.round(ay_ax[2,:],3))\n",
    "print(\"\")\n",
    "\n",
    "print(\"(the derivative of Y w.r.t δ)\")\n",
    "print(\"[dr/dδ, dk/dδ, dl/dδ, dw/dδ, dc/dδ, dT/dδ, dO/dδ, di/dδ] = \")\n",
    "print(np.round(ay_ax[3,:],3))\n",
    "print(\"\")\n",
    "\n",
    "print(\"(the derivative of Y w.r.t ξ)\")\n",
    "print(\"[dr/dξ, dk/dξ, dl/dξ, dw/dξ, dc/dξ, dT/dξ, dO/dξ, di/dξ] = \")\n",
    "print(np.round(ay_ax[3,:],3))\n",
    "print(\"\")\n",
    "\n",
    "print(\"(the derivative of Y w.r.t τ)\")\n",
    "print(\"[dr/dτ, dk/dτ, dl/dτ, dw/dτ, dc/dτ, dT/dτ, dO/dτ, di/dτ] = \")\n",
    "print(np.round(ay_ax[5,:],3))\n",
    "print(\"\")\n",
    "\n",
    "print(\"(the derivative of Y w.r.t a)\")\n",
    "print(\"[dr/da, dk/da, dl/da, dw/da, dc/da, dT/da, dO/da, di/da] = \")\n",
    "print(np.round(ay_ax[6,:],3))\n",
    "print(\"\")\n",
    "\n",
    "print(\"(the derivative of Y w.r.t z)\")\n",
    "print(\"[dr/dz, dk/dz, dl/dz, dw/dz, dc/dz, dT/dz, dO/dz, di/dz] = \")\n",
    "print(np.round(ay_ax[7,:],3))\n",
    "print(\"\")"
   ]
  },
  {
   "cell_type": "markdown",
   "metadata": {},
   "source": [
    "### End"
   ]
  }
 ],
 "metadata": {
  "kernelspec": {
   "display_name": "Python 3",
   "language": "python",
   "name": "python3"
  },
  "language_info": {
   "codemirror_mode": {
    "name": "ipython",
    "version": 3
   },
   "file_extension": ".py",
   "mimetype": "text/x-python",
   "name": "python",
   "nbconvert_exporter": "python",
   "pygments_lexer": "ipython3",
   "version": "3.7.3"
  }
 },
 "nbformat": 4,
 "nbformat_minor": 2
}
