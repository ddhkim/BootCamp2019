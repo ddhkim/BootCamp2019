{
 "cells": [
  {
   "cell_type": "markdown",
   "metadata": {},
   "source": [
    "# Computation, Problem Set #1b\n",
    "## Intro to NumPy"
   ]
  },
  {
   "cell_type": "code",
   "execution_count": 1,
   "metadata": {},
   "outputs": [],
   "source": [
    "import numpy as np\n",
    "from matplotlib import pyplot as plt\n",
    "import math\n",
    "import sympy as sy"
   ]
  },
  {
   "cell_type": "markdown",
   "metadata": {},
   "source": [
    "### Problem 1"
   ]
  },
  {
   "cell_type": "code",
   "execution_count": 80,
   "metadata": {},
   "outputs": [
    {
     "name": "stdout",
     "output_type": "stream",
     "text": [
      "[[ 37  14 -32 -10]\n",
      " [-54  -7  58  65]]\n"
     ]
    }
   ],
   "source": [
    "A = np.array([[3,-1,4],[1,5,-9]])\n",
    "B = np.array([[2,6,-5,3],[5,-8,9,7],[9,-3,-2,-3]])\n",
    "AB = A@B\n",
    "print(AB)"
   ]
  },
  {
   "cell_type": "markdown",
   "metadata": {},
   "source": [
    "### Problem 2"
   ]
  },
  {
   "cell_type": "code",
   "execution_count": 81,
   "metadata": {},
   "outputs": [
    {
     "data": {
      "text/plain": [
       "array([[0, 0, 0],\n",
       "       [0, 0, 0],\n",
       "       [0, 0, 0]])"
      ]
     },
     "execution_count": 81,
     "metadata": {},
     "output_type": "execute_result"
    }
   ],
   "source": [
    "A = np.array([[3,1,4],[1,5,9],[-5,3,1]])\n",
    "-A@A@A + 9*A@A - 15*A"
   ]
  },
  {
   "cell_type": "markdown",
   "metadata": {},
   "source": [
    "### Problem 3"
   ]
  },
  {
   "cell_type": "code",
   "execution_count": 82,
   "metadata": {},
   "outputs": [
    {
     "name": "stdout",
     "output_type": "stream",
     "text": [
      "[[1 1 1 1 1 1 1]\n",
      " [0 1 1 1 1 1 1]\n",
      " [0 0 1 1 1 1 1]\n",
      " [0 0 0 1 1 1 1]\n",
      " [0 0 0 0 1 1 1]\n",
      " [0 0 0 0 0 1 1]\n",
      " [0 0 0 0 0 0 1]]\n",
      "[[-1  5  5  5  5  5  5]\n",
      " [-1 -1  5  5  5  5  5]\n",
      " [-1 -1 -1  5  5  5  5]\n",
      " [-1 -1 -1 -1  5  5  5]\n",
      " [-1 -1 -1 -1 -1  5  5]\n",
      " [-1 -1 -1 -1 -1 -1  5]\n",
      " [-1 -1 -1 -1 -1 -1 -1]]\n"
     ]
    }
   ],
   "source": [
    "A = np.triu(np.ones((7,7)))\n",
    "B = np.tril(np.full_like(A,-1))\\\n",
    "+(np.full_like(A,5)-np.tril(np.full_like(A,5)))\n",
    "A = A.astype(np.int64)\n",
    "B = B.astype(np.int64)\n",
    "print(A)\n",
    "print(B)"
   ]
  },
  {
   "cell_type": "markdown",
   "metadata": {},
   "source": [
    "### Problem 4"
   ]
  },
  {
   "cell_type": "code",
   "execution_count": 83,
   "metadata": {},
   "outputs": [
    {
     "name": "stdout",
     "output_type": "stream",
     "text": [
      "[[-1  5  5  5  5  5  5]\n",
      " [-1 -1  5  5  5  5  5]\n",
      " [-1 -1 -1  5  5  5  5]\n",
      " [-1 -1 -1 -1  5  5  5]\n",
      " [-1 -1 -1 -1 -1  5  5]\n",
      " [-1 -1 -1 -1 -1 -1  5]\n",
      " [-1 -1 -1 -1 -1 -1 -1]]\n",
      "[[0 5 5 5 5 5 5]\n",
      " [0 0 5 5 5 5 5]\n",
      " [0 0 0 5 5 5 5]\n",
      " [0 0 0 0 5 5 5]\n",
      " [0 0 0 0 0 5 5]\n",
      " [0 0 0 0 0 0 5]\n",
      " [0 0 0 0 0 0 0]]\n"
     ]
    }
   ],
   "source": [
    "def change_input(x):\n",
    "    mask = x < 0\n",
    "    x[mask] = 0\n",
    "    return x\n",
    "print(B)\n",
    "print(change_input(B))"
   ]
  },
  {
   "cell_type": "markdown",
   "metadata": {},
   "source": [
    "### Problem 5"
   ]
  },
  {
   "cell_type": "code",
   "execution_count": 85,
   "metadata": {},
   "outputs": [
    {
     "data": {
      "text/plain": [
       "array([[ 0.,  0.,  0.,  0.,  1.,  1.,  0.,  0.],\n",
       "       [ 0.,  0.,  0.,  2.,  3.,  0.,  1.,  0.],\n",
       "       [ 0.,  0.,  0.,  4.,  5.,  0.,  0.,  1.],\n",
       "       [ 0.,  2.,  4.,  0.,  0.,  0.,  0.,  0.],\n",
       "       [ 1.,  3.,  5.,  0.,  0.,  0.,  0.,  0.],\n",
       "       [ 3.,  0.,  0.,  0.,  0., -2., -0., -0.],\n",
       "       [ 3.,  3.,  0.,  0.,  0., -0., -2., -0.],\n",
       "       [ 3.,  3.,  3.,  0.,  0., -0., -0., -2.]])"
      ]
     },
     "execution_count": 85,
     "metadata": {},
     "output_type": "execute_result"
    }
   ],
   "source": [
    "A = np.arange(6).reshape((3,2)).T\n",
    "B = np.tril(np.ones((3,3))*3)\n",
    "C = np.eye(3)*(-2)\n",
    "Row1 = np.hstack((np.zeros((3,3)),A.T,np.eye(3)))\n",
    "Row2 = np.hstack((A,np.zeros((2,2)),np.zeros((2,3))))\n",
    "Row3 = np.hstack((B,np.zeros((3,2)),C))\n",
    "np.vstack((Row1,Row2,Row3))"
   ]
  },
  {
   "cell_type": "markdown",
   "metadata": {},
   "source": [
    "### Problem 6"
   ]
  },
  {
   "cell_type": "code",
   "execution_count": 86,
   "metadata": {},
   "outputs": [
    {
     "name": "stdout",
     "output_type": "stream",
     "text": [
      "[[0 2 4]\n",
      " [1 3 5]]\n"
     ]
    },
    {
     "data": {
      "text/plain": [
       "array([[0.        , 0.33333333, 0.66666667],\n",
       "       [0.11111111, 0.33333333, 0.55555556]])"
      ]
     },
     "execution_count": 86,
     "metadata": {},
     "output_type": "execute_result"
    }
   ],
   "source": [
    "def row_stochastic(x):\n",
    "    rowsum = x.sum(axis=1)\n",
    "    rowsum = rowsum.reshape((-1,1))\n",
    "    Stochastic_x = x / rowsum\n",
    "    return Stochastic_x\n",
    "\n",
    "print(A)\n",
    "row_stochastic(A)"
   ]
  },
  {
   "cell_type": "markdown",
   "metadata": {},
   "source": [
    "### Problem 7"
   ]
  },
  {
   "cell_type": "code",
   "execution_count": 87,
   "metadata": {},
   "outputs": [
    {
     "name": "stdout",
     "output_type": "stream",
     "text": [
      "48477312 51267216 70600674 70600674\n"
     ]
    },
    {
     "data": {
      "text/plain": [
       "70600674"
      ]
     },
     "execution_count": 87,
     "metadata": {},
     "output_type": "execute_result"
    }
   ],
   "source": [
    "def max_four_product(x):\n",
    "    max_col = np.max(x[:,:-3]*x[:,1:-2]*x[:,2:-1]*x[:,3:])\n",
    "    max_row = np.max(x[:-3,:]*x[1:-2,:]*x[2:-1,:]*x[3:,:])\n",
    "    max_right_diag = np.max(x[:-3,3:]*x[1:-2,2:-1]*x[2:-1,1:-2]*x[3:,:-3])\n",
    "    max_left_diag = np.max(x[3:,:-3]*x[2:-1,1:-2]*x[1:-2,2:-1]*x[:-3,3:])\n",
    "    \n",
    "    print(max_col,max_row,max_right_diag,max_left_diag)\n",
    "    maximum = max(max_col,max_row,max_right_diag,max_left_diag)\n",
    "    return maximum\n",
    "\n",
    "grid = np.load(\"grid.npy\")\n",
    "max_four_product(grid)"
   ]
  },
  {
   "cell_type": "markdown",
   "metadata": {},
   "source": [
    "### End"
   ]
  }
 ],
 "metadata": {
  "kernelspec": {
   "display_name": "Python 3",
   "language": "python",
   "name": "python3"
  },
  "language_info": {
   "codemirror_mode": {
    "name": "ipython",
    "version": 3
   },
   "file_extension": ".py",
   "mimetype": "text/x-python",
   "name": "python",
   "nbconvert_exporter": "python",
   "pygments_lexer": "ipython3",
   "version": "3.7.3"
  }
 },
 "nbformat": 4,
 "nbformat_minor": 2
}
